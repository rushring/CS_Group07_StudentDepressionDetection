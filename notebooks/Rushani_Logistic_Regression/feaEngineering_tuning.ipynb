{
 "cells": [
  {
   "cell_type": "code",
   "execution_count": 1,
   "id": "105c16c0",
   "metadata": {},
   "outputs": [],
   "source": [
    "import pandas as pd\n",
    "import numpy as np\n",
    "import matplotlib.pyplot as plt\n",
    "import seaborn as sns"
   ]
  },
  {
   "cell_type": "code",
   "execution_count": 2,
   "id": "ea742814",
   "metadata": {},
   "outputs": [],
   "source": [
    "# Load cleaned dataset\n",
    "df = pd.read_csv('cleaned_student_depression.csv')\n"
   ]
  },
  {
   "cell_type": "code",
   "execution_count": 3,
   "id": "a123d595",
   "metadata": {},
   "outputs": [],
   "source": [
    "# split the data set into independent and dependent variables\n",
    "X = df.drop(columns=['Depression'])\n",
    "y = df['Depression']\n",
    " "
   ]
  },
  {
   "cell_type": "code",
   "execution_count": null,
   "id": "fdec4acb",
   "metadata": {},
   "outputs": [],
   "source": [
    "# split data into train and test data set, no validation set, because to use cross validation \n",
    "\n",
    "from sklearn.model_selection import train_test_split\n",
    "\n",
    "X_train, X_test, y_train, y_test = train_test_split(\n",
    "    X, y, test_size=0.2, random_state=42, stratify=y\n",
    ")\n",
    "\n"
   ]
  },
  {
   "cell_type": "code",
   "execution_count": 5,
   "id": "61b10acf",
   "metadata": {},
   "outputs": [],
   "source": [
    "from sklearn.preprocessing import OneHotEncoder, OrdinalEncoder,StandardScaler\n",
    "from sklearn.compose import ColumnTransformer\n",
    "from sklearn.pipeline import Pipeline\n",
    "\n",
    "#  Column groups\n",
    "onehot_cols = ['Gender', 'Profession', 'Degree','Suicidal_Thoughts', 'Mental_Illness_History']\n",
    "ordinal_cols = ['Sleep_Duration', 'Dietary_Habits']\n",
    "\n",
    "# Define category orders for ordinal features\n",
    "ordinal_categories = [\n",
    "    ['Less than 5 hours', '5-6 hours', '7-8 hours', 'More than 8 hours'],  \n",
    "    ['Unhealthy', 'Moderate', 'Healthy']                                                                                                 # Mental_Illness_History\n",
    "]\n",
    "\n",
    "# Define ColumnTransformer\n",
    "encoder = ColumnTransformer(\n",
    "    transformers=[\n",
    "        ('onehot', OneHotEncoder(handle_unknown='ignore',drop='first', sparse_output=False), onehot_cols),\n",
    "        ('ordinal', OrdinalEncoder(categories=ordinal_categories), ordinal_cols)\n",
    "    ],\n",
    "    remainder='passthrough' \n",
    ")\n",
    "\n"
   ]
  },
  {
   "cell_type": "code",
   "execution_count": 6,
   "id": "fe86e9bb",
   "metadata": {},
   "outputs": [],
   "source": [
    "# validate the base model through cross validation\n",
    "from sklearn.linear_model import LogisticRegression\n",
    "from sklearn.model_selection import StratifiedKFold, cross_val_score\n",
    "\n",
    "# Define the new model pipeline with preprocessing and logistic regression for cross validation\n",
    "pipeline = Pipeline([\n",
    "    ('preprocessing', encoder),\n",
    "    ('scaler', StandardScaler()),\n",
    "    ('model', LogisticRegression(max_iter=10000, random_state=42))\n",
    "])\n",
    "\n",
    "# Define stratified k-fold cross-validator with k=5\n",
    "skf = StratifiedKFold(n_splits=5, shuffle=True, random_state=42)\n",
    "\n"
   ]
  },
  {
   "cell_type": "code",
   "execution_count": 7,
   "id": "f3862481",
   "metadata": {},
   "outputs": [
    {
     "name": "stdout",
     "output_type": "stream",
     "text": [
      "Precision of each fold: [0.85619469 0.86343284 0.85125775 0.85886792 0.85050205]\n",
      "Average Precision: 0.8560510485954108\n"
     ]
    }
   ],
   "source": [
    "# Precision\n",
    "precision_cv = cross_val_score(pipeline, X_train, y_train, cv=skf, scoring='precision')\n",
    "print(\"Precision of each fold:\", precision_cv)\n",
    "print(\"Average Precision:\", precision_cv.mean())"
   ]
  },
  {
   "cell_type": "code",
   "execution_count": 8,
   "id": "30ee2bce",
   "metadata": {},
   "outputs": [
    {
     "name": "stdout",
     "output_type": "stream",
     "text": [
      "Recall of each fold: [0.88931444 0.88625048 0.89429337 0.87169667 0.87624521]\n",
      "Average Recall: 0.8835600341026983\n"
     ]
    }
   ],
   "source": [
    "# Recall\n",
    "recall_cv = cross_val_score(pipeline, X_train, y_train, cv=skf, scoring='recall')\n",
    "print(\"Recall of each fold:\", recall_cv)\n",
    "print(\"Average Recall:\", recall_cv.mean())"
   ]
  },
  {
   "cell_type": "code",
   "execution_count": 9,
   "id": "9acde0d5",
   "metadata": {},
   "outputs": [
    {
     "name": "stdout",
     "output_type": "stream",
     "text": [
      "F1 Score of each fold: [0.87244035 0.87469287 0.87224505 0.86523475 0.86318173]\n",
      "Average F1 Score: 0.8695589513910111\n"
     ]
    }
   ],
   "source": [
    "# F1 Score\n",
    "f1_cv = cross_val_score(pipeline, X_train, y_train, cv=skf, scoring='f1')\n",
    "print(\"F1 Score of each fold:\", f1_cv)\n",
    "print(\"Average F1 Score:\", f1_cv.mean())"
   ]
  },
  {
   "cell_type": "code",
   "execution_count": 10,
   "id": "d53f1fd4",
   "metadata": {},
   "outputs": [
    {
     "name": "stdout",
     "output_type": "stream",
     "text": [
      "Gender : 2:\n",
      " ['Male' 'Female']\n",
      "Profession : 2:\n",
      " ['Student' 'Other']\n",
      "Sleep_Duration : 4:\n",
      " ['5-6 hours' 'Less than 5 hours' '7-8 hours' 'More than 8 hours']\n",
      "Dietary_Habits : 3:\n",
      " ['Healthy' 'Moderate' 'Unhealthy']\n",
      "Degree : 28:\n",
      " ['B.Pharm' 'BSc' 'BA' 'BCA' 'M.Tech' 'PhD' 'Class 12' 'B.Ed' 'LLB' 'BE'\n",
      " 'M.Ed' 'MSc' 'BHM' 'M.Pharm' 'MCA' 'MA' 'B.Com' 'MD' 'MBA' 'MBBS' 'M.Com'\n",
      " 'B.Arch' 'LLM' 'B.Tech' 'BBA' 'ME' 'MHM' 'Others']\n",
      "Suicidal_Thoughts : 2:\n",
      " ['Yes' 'No']\n",
      "Mental_Illness_History : 2:\n",
      " ['No' 'Yes']\n"
     ]
    }
   ],
   "source": [
    "# Show unique values in categorical columns\n",
    "for col in df.select_dtypes(include='object'):\n",
    "    print(f\"{col} : {df[col].nunique()}:\\n {df[col].unique()}\")"
   ]
  },
  {
   "cell_type": "code",
   "execution_count": 11,
   "id": "47525432",
   "metadata": {},
   "outputs": [],
   "source": [
    "## since degree column has has so many unique values so performing target encoding on this colum might improve the performance by reducing the risk of multidimensionality while using onehot encoding "
   ]
  },
  {
   "cell_type": "markdown",
   "id": "f9e23fd9",
   "metadata": {},
   "source": [
    "#### more feature engineering\n",
    "##### 1.Target encoding on degree"
   ]
  },
  {
   "cell_type": "code",
   "execution_count": 12,
   "id": "47bd8e9e",
   "metadata": {},
   "outputs": [],
   "source": [
    "import category_encoders as ce"
   ]
  },
  {
   "cell_type": "code",
   "execution_count": 13,
   "id": "e5b63f9c",
   "metadata": {},
   "outputs": [],
   "source": [
    "onehot_cols = ['Gender', 'Profession', 'Suicidal_Thoughts', 'Mental_Illness_History']\n",
    "target_encode_cols = ['Degree']  "
   ]
  },
  {
   "cell_type": "code",
   "execution_count": 14,
   "id": "ed40e6cc",
   "metadata": {},
   "outputs": [],
   "source": [
    "target_encoder = ce.TargetEncoder(cols=target_encode_cols)"
   ]
  },
  {
   "cell_type": "code",
   "execution_count": 15,
   "id": "e6676a16",
   "metadata": {},
   "outputs": [],
   "source": [
    "# Define ColumnTransformer\n",
    "encoder = ColumnTransformer(\n",
    "    transformers=[\n",
    "        ('target', target_encoder, target_encode_cols),\n",
    "        ('onehot', OneHotEncoder(handle_unknown='ignore',drop='first', sparse_output=False), onehot_cols),\n",
    "        ('ordinal', OrdinalEncoder(categories=ordinal_categories), ordinal_cols)\n",
    "    ],\n",
    "    remainder='passthrough' \n",
    ")"
   ]
  },
  {
   "cell_type": "code",
   "execution_count": 16,
   "id": "db7182ab",
   "metadata": {},
   "outputs": [],
   "source": [
    "new_pipeline = Pipeline([\n",
    "    ('preprocessing', encoder),\n",
    "    ('scaler', StandardScaler()),\n",
    "    ('model', LogisticRegression(max_iter=10000, random_state=42))\n",
    "])"
   ]
  },
  {
   "cell_type": "code",
   "execution_count": 17,
   "id": "075c5247",
   "metadata": {},
   "outputs": [
    {
     "name": "stdout",
     "output_type": "stream",
     "text": [
      "Precision of each fold: [0.85366753 0.8641102  0.84914577 0.85612589 0.84957392]\n",
      "Average Precision: 0.8545246598107189\n"
     ]
    }
   ],
   "source": [
    "# Precision\n",
    "precision_cv_v1 = cross_val_score(new_pipeline, X_train,y_train, cv=skf, scoring='precision')\n",
    "print(\"Precision of each fold:\", precision_cv_v1)\n",
    "print(\"Average Precision:\", precision_cv_v1.mean())"
   ]
  },
  {
   "cell_type": "code",
   "execution_count": 18,
   "id": "e3c283bc",
   "metadata": {},
   "outputs": [
    {
     "name": "stdout",
     "output_type": "stream",
     "text": [
      "Recall of each fold: [0.88701647 0.88893144 0.89467637 0.87514362 0.87854406]\n",
      "Average Recall: 0.8848623932639834\n"
     ]
    }
   ],
   "source": [
    "# Recall\n",
    "recall_cv_v1 = cross_val_score(new_pipeline, X_train, y_train, cv=skf, scoring='recall')\n",
    "print(\"Recall of each fold:\", recall_cv_v1)\n",
    "print(\"Average Recall:\", recall_cv_v1.mean())"
   ]
  },
  {
   "cell_type": "code",
   "execution_count": 19,
   "id": "c38b0c89",
   "metadata": {},
   "outputs": [
    {
     "name": "stdout",
     "output_type": "stream",
     "text": [
      "F1 Score of each fold: [0.87002254 0.8763451  0.87131667 0.8655303  0.86381616]\n",
      "Average F1 Score: 0.8694061555187573\n"
     ]
    }
   ],
   "source": [
    "# F1 Score\n",
    "f1_cv_v1 = cross_val_score(new_pipeline, X_train, y_train, cv=skf, scoring='f1')\n",
    "print(\"F1 Score of each fold:\", f1_cv_v1)\n",
    "print(\"Average F1 Score:\", f1_cv_v1.mean())"
   ]
  },
  {
   "cell_type": "code",
   "execution_count": 20,
   "id": "f3021c2d",
   "metadata": {},
   "outputs": [
    {
     "data": {
      "image/png": "[encoded data removed]",
      "text/plain": [
       "<Figure size 640x480 with 1 Axes>"
      ]
     },
     "metadata": {},
     "output_type": "display_data"
    },
    {
     "name": "stdout",
     "output_type": "stream",
     "text": [
      "Model Performance Summary (Cross-Validation):\n",
      "Precision:\n",
      "  Base Model: 0.8561\n",
      "  New Model : 0.8545\n",
      "------------------------------\n",
      "Recall:\n",
      "  Base Model: 0.8836\n",
      "  New Model : 0.8849\n",
      "------------------------------\n",
      "F1 Score:\n",
      "  Base Model: 0.8696\n",
      "  New Model : 0.8694\n",
      "------------------------------\n"
     ]
    }
   ],
   "source": [
    "import matplotlib.pyplot as plt\n",
    "\n",
    "# average scores\n",
    "base_scores = [precision_cv.mean(), recall_cv.mean(), f1_cv.mean()]\n",
    "new_scores = [precision_cv_v1.mean(), recall_cv_v1.mean(), f1_cv_v1.mean()]\n",
    "metrics = ['Precision', 'Recall', 'F1 Score']\n",
    "\n",
    "x = range(len(metrics))\n",
    "\n",
    "plt.bar(x, base_scores, width=0.4, label='Base Model', align='center')\n",
    "plt.bar([i + 0.4 for i in x], new_scores, width=0.4, label='New Model', align='center')\n",
    "\n",
    "plt.xticks([i + 0.2 for i in x], metrics)\n",
    "plt.ylim(0, 1)\n",
    "plt.ylabel('Score')\n",
    "plt.title('Comparison of Model Performance - target encoding of degree colunm')\n",
    "plt.legend()\n",
    "plt.show()\n",
    "\n",
    "print(\"Model Performance Summary (Cross-Validation):\")\n",
    "for i in range(len(metrics)):\n",
    "    print(f\"{metrics[i]}:\")\n",
    "    print(f\"  Base Model: {base_scores[i]:.4f}\")\n",
    "    print(f\"  New Model : {new_scores[i]:.4f}\")\n",
    "    print(\"-\" * 30)\n"
   ]
  },
  {
   "cell_type": "code",
   "execution_count": 21,
   "id": "e00ce142",
   "metadata": {},
   "outputs": [],
   "source": [
    "## performance have not changed because of target encoding, only the recall is increased at 3th decimal places. the precision and f1 sores have been reduced\n",
    "## so the traget encoding  did not improved the model, it is better to stick to basic one hot encoding done in base model "
   ]
  },
  {
   "cell_type": "code",
   "execution_count": 22,
   "id": "e3f5077e",
   "metadata": {},
   "outputs": [],
   "source": [
    "## in general on real world there is a high chance when a student has high pressure on academic side and has more study hours, then he has higher chance of depression\n",
    "## so checking whether those features have a relationship other than the default linear one can improve the performance of the model"
   ]
  },
  {
   "cell_type": "markdown",
   "id": "f776e108",
   "metadata": {},
   "source": [
    "#### 2. adding interaction terms"
   ]
  },
  {
   "cell_type": "code",
   "execution_count": 23,
   "id": "9190527d",
   "metadata": {},
   "outputs": [],
   "source": [
    "# Create copies of X_train and X_test to safely changing the data without altering the original one\n",
    "X_train_int = X_train.copy()\n",
    "X_test_int = X_test.copy()"
   ]
  },
  {
   "cell_type": "code",
   "execution_count": 24,
   "id": "03fd412e",
   "metadata": {},
   "outputs": [],
   "source": [
    "# Add the interaction term combine academic pressure and study hours\n",
    "X_train_int['APxSH'] = X_train_int['Academic_Pressure'] * X_train_int['Study_Hours']\n"
   ]
  },
  {
   "cell_type": "code",
   "execution_count": 25,
   "id": "428282d6",
   "metadata": {},
   "outputs": [],
   "source": [
    "#e redefine the one hot encoding colums because previously removed degree from it\n",
    "onehot_cols = ['Gender', 'Profession', 'Degree','Suicidal_Thoughts', 'Mental_Illness_History']"
   ]
  },
  {
   "cell_type": "code",
   "execution_count": 26,
   "id": "b382a328",
   "metadata": {},
   "outputs": [],
   "source": [
    "# redefing the  Preprocessor without target encoder\n",
    "encoder = ColumnTransformer(\n",
    "    transformers=[\n",
    "        ('onehot', OneHotEncoder(handle_unknown='ignore', drop='first', sparse_output=False), onehot_cols),\n",
    "        ('ordinal', OrdinalEncoder(categories=ordinal_categories), ordinal_cols)\n",
    "    ],\n",
    "    remainder='passthrough'  # keep numeric + interaction features\n",
    ")"
   ]
  },
  {
   "cell_type": "code",
   "execution_count": 27,
   "id": "6da69972",
   "metadata": {},
   "outputs": [],
   "source": [
    "# Rebuild the pipeline without target encoder\n",
    "new_pipeline = Pipeline([\n",
    "    ('preprocessing', encoder),\n",
    "    ('scaler', StandardScaler()),\n",
    "    ('model', LogisticRegression(max_iter=10000, random_state=42))\n",
    "])"
   ]
  },
  {
   "cell_type": "code",
   "execution_count": 28,
   "id": "0db2ed50",
   "metadata": {},
   "outputs": [
    {
     "name": "stdout",
     "output_type": "stream",
     "text": [
      "Precision of each fold: [0.8558791  0.86241611 0.85094752 0.85859729 0.85070737]\n",
      "Average Precision: 0.8557094772998287\n"
     ]
    }
   ],
   "source": [
    "# Precision\n",
    "precision_cv_v2 = cross_val_score(new_pipeline, X_train_int,y_train, cv=skf, scoring='precision')\n",
    "print(\"Precision of each fold:\", precision_cv_v2)\n",
    "print(\"Average Precision:\", precision_cv_v2.mean())"
   ]
  },
  {
   "cell_type": "code",
   "execution_count": 29,
   "id": "effebd36",
   "metadata": {},
   "outputs": [
    {
     "name": "stdout",
     "output_type": "stream",
     "text": [
      "Recall of each fold: [0.88931444 0.88586748 0.89429337 0.87207966 0.87547893]\n",
      "Average Recall: 0.8834067773977174\n"
     ]
    }
   ],
   "source": [
    "# Recall\n",
    "recall_cv_v2 = cross_val_score(new_pipeline, X_train_int, y_train, cv=skf, scoring='recall')\n",
    "print(\"Recall of each fold:\", recall_cv_v2)\n",
    "print(\"Average Recall:\", recall_cv_v2.mean())"
   ]
  },
  {
   "cell_type": "code",
   "execution_count": 30,
   "id": "b6fa080d",
   "metadata": {},
   "outputs": [
    {
     "name": "stdout",
     "output_type": "stream",
     "text": [
      "F1 Score of each fold: [0.87227648 0.87398451 0.87208217 0.86528596 0.86291541]\n",
      "Average F1 Score: 0.8693089048641662\n"
     ]
    }
   ],
   "source": [
    "# F1 Score\n",
    "f1_cv_v2 = cross_val_score(new_pipeline, X_train_int, y_train, cv=skf, scoring='f1')\n",
    "print(\"F1 Score of each fold:\", f1_cv_v2)\n",
    "print(\"Average F1 Score:\", f1_cv_v2.mean())"
   ]
  },
  {
   "cell_type": "code",
   "execution_count": 31,
   "id": "3842f2b2",
   "metadata": {},
   "outputs": [
    {
     "data": {
      "image/png": "[encoded data removed]",
      "text/plain": [
       "<Figure size 640x480 with 1 Axes>"
      ]
     },
     "metadata": {},
     "output_type": "display_data"
    },
    {
     "name": "stdout",
     "output_type": "stream",
     "text": [
      "Model 2 Performance Summary (Cross-Validation):\n",
      "Precision:\n",
      "  Base Model: 0.8561\n",
      "  New Model : 0.8557\n",
      "------------------------------\n",
      "Recall:\n",
      "  Base Model: 0.8836\n",
      "  New Model : 0.8834\n",
      "------------------------------\n",
      "F1 Score:\n",
      "  Base Model: 0.8696\n",
      "  New Model : 0.8693\n",
      "------------------------------\n"
     ]
    }
   ],
   "source": [
    "import matplotlib.pyplot as plt\n",
    "\n",
    "# average scores\n",
    "base_scores = [precision_cv.mean(), recall_cv.mean(), f1_cv.mean()]\n",
    "new_scores = [precision_cv_v2.mean(), recall_cv_v2.mean(), f1_cv_v2.mean()]\n",
    "metrics = ['Precision', 'Recall', 'F1 Score']\n",
    "\n",
    "x = range(len(metrics))\n",
    "\n",
    "plt.bar(x, base_scores, width=0.4, label='Base Model', align='center')\n",
    "plt.bar([i + 0.4 for i in x], new_scores, width=0.4, label='New Model', align='center')\n",
    "\n",
    "plt.xticks([i + 0.2 for i in x], metrics)\n",
    "plt.ylim(0, 1)\n",
    "plt.ylabel('Score')\n",
    "plt.title('Comparison of Model Performance - interaction term between academic pressure vs study hours')\n",
    "plt.legend()\n",
    "plt.show()\n",
    "\n",
    "print(\"Model 2 Performance Summary (Cross-Validation):\")\n",
    "for i in range(len(metrics)):\n",
    "    print(f\"{metrics[i]}:\")\n",
    "    print(f\"  Base Model: {base_scores[i]:.4f}\")\n",
    "    print(f\"  New Model : {new_scores[i]:.4f}\")\n",
    "    print(\"-\" * 30)\n"
   ]
  },
  {
   "cell_type": "code",
   "execution_count": 32,
   "id": "49e24d4d",
   "metadata": {},
   "outputs": [],
   "source": [
    "## no improvement at all by adding the interaction term combining scademic pressure and study hours, might be only the linear relationship between those"
   ]
  },
  {
   "cell_type": "markdown",
   "id": "be7a1563",
   "metadata": {},
   "source": [
    "##### 3. binning on age column-"
   ]
  },
  {
   "cell_type": "code",
   "execution_count": 33,
   "id": "5423ac0b",
   "metadata": {},
   "outputs": [],
   "source": [
    "# Define age bins and labels\n",
    "age_bins = [0, 20, 30, 35, 70]\n",
    "age_labels = ['Teen', 'Young_Adult', 'Adult', 'Older_Adult']\n"
   ]
  },
  {
   "cell_type": "code",
   "execution_count": 34,
   "id": "a187e037",
   "metadata": {},
   "outputs": [],
   "source": [
    "X_train_bin = X_train.copy()\n",
    "\n",
    "X_train_bin['Age_Bin'] = pd.cut(X_train['Age'], bins=age_bins, labels=age_labels)"
   ]
  },
  {
   "cell_type": "code",
   "execution_count": 35,
   "id": "ad0a2c14",
   "metadata": {},
   "outputs": [],
   "source": [
    "## Age_Bin also added to one hot encoding\n",
    "onehot_cols = ['Gender', 'Profession', 'Degree', 'Suicidal_Thoughts', 'Mental_Illness_History', 'Age_Bin']\n"
   ]
  },
  {
   "cell_type": "code",
   "execution_count": 37,
   "id": "0fd0dc7e",
   "metadata": {},
   "outputs": [],
   "source": [
    "# Rebuild encoder with Age_Bin added to onehot\n",
    "encoder = ColumnTransformer(\n",
    "    transformers=[\n",
    "        ('onehot', OneHotEncoder(handle_unknown='ignore', drop='first', sparse_output=False), onehot_cols),\n",
    "        ('ordinal', OrdinalEncoder(categories=ordinal_categories), ordinal_cols)\n",
    "    ],\n",
    "    remainder='passthrough'  # numerical cols like Age, Study_Hours, etc.\n",
    ")"
   ]
  },
  {
   "cell_type": "code",
   "execution_count": 38,
   "id": "ff501171",
   "metadata": {},
   "outputs": [],
   "source": [
    "# Rebuild pipeline using the updated encoder\n",
    "new_pipeline = Pipeline([\n",
    "    ('preprocessing', encoder),\n",
    "    ('scaler', StandardScaler()),\n",
    "    ('model', LogisticRegression(max_iter=10000, random_state=42))\n",
    "])"
   ]
  },
  {
   "cell_type": "code",
   "execution_count": 39,
   "id": "dc6190a4",
   "metadata": {},
   "outputs": [
    {
     "name": "stdout",
     "output_type": "stream",
     "text": [
      "Precision of each fold: [0.85482682 0.86380597 0.84970888 0.85784314 0.85087393]\n",
      "Average Precision: 0.8554117482589039\n"
     ]
    }
   ],
   "source": [
    "# Precision\n",
    "precision_cv_v3 = cross_val_score(new_pipeline, X_train_bin,y_train, cv=skf, scoring='precision')\n",
    "print(\"Precision of each fold:\", precision_cv_v3)\n",
    "print(\"Average Precision:\", precision_cv_v3.mean())"
   ]
  },
  {
   "cell_type": "code",
   "execution_count": 40,
   "id": "62fee208",
   "metadata": {},
   "outputs": [
    {
     "name": "stdout",
     "output_type": "stream",
     "text": [
      "Recall of each fold: [0.88854845 0.88663347 0.89429337 0.87131367 0.87662835]\n",
      "Average Recall: 0.8834834644467631\n"
     ]
    }
   ],
   "source": [
    "# Recall\n",
    "recall_cv_v3 = cross_val_score(new_pipeline, X_train_bin, y_train, cv=skf, scoring='recall')\n",
    "print(\"Recall of each fold:\", recall_cv_v3)\n",
    "print(\"Average Recall:\", recall_cv_v3.mean())"
   ]
  },
  {
   "cell_type": "code",
   "execution_count": 41,
   "id": "7dad9924",
   "metadata": {},
   "outputs": [
    {
     "name": "stdout",
     "output_type": "stream",
     "text": [
      "F1 Score of each fold: [0.8713615  0.87507088 0.87143124 0.86452594 0.86355916]\n",
      "Average F1 Score: 0.8691897424947076\n"
     ]
    }
   ],
   "source": [
    "# F1 Score\n",
    "f1_cv_v3 = cross_val_score(new_pipeline, X_train_bin, y_train, cv=skf, scoring='f1')\n",
    "print(\"F1 Score of each fold:\", f1_cv_v3)\n",
    "print(\"Average F1 Score:\", f1_cv_v3.mean())"
   ]
  },
  {
   "cell_type": "code",
   "execution_count": 43,
   "id": "9242fb76",
   "metadata": {},
   "outputs": [
    {
     "data": {
      "image/png": "[encoded data removed]",
      "text/plain": [
       "<Figure size 640x480 with 1 Axes>"
      ]
     },
     "metadata": {},
     "output_type": "display_data"
    },
    {
     "name": "stdout",
     "output_type": "stream",
     "text": [
      "Model 3 Performance Summary (Cross-Validation):\n",
      "Precision:\n",
      "  Base Model: 0.8561\n",
      "  New Model : 0.8554\n",
      "------------------------------\n",
      "Recall:\n",
      "  Base Model: 0.8836\n",
      "  New Model : 0.8835\n",
      "------------------------------\n",
      "F1 Score:\n",
      "  Base Model: 0.8696\n",
      "  New Model : 0.8692\n",
      "------------------------------\n"
     ]
    }
   ],
   "source": [
    "import matplotlib.pyplot as plt\n",
    "\n",
    "# average scores\n",
    "base_scores = [precision_cv.mean(), recall_cv.mean(), f1_cv.mean()]\n",
    "new_scores = [precision_cv_v3.mean(), recall_cv_v3.mean(), f1_cv_v3.mean()]\n",
    "metrics = ['Precision', 'Recall', 'F1 Score']\n",
    "\n",
    "x = range(len(metrics))\n",
    "\n",
    "plt.bar(x, base_scores, width=0.4, label='Base Model', align='center')\n",
    "plt.bar([i + 0.4 for i in x], new_scores, width=0.4, label='New Model', align='center')\n",
    "\n",
    "plt.xticks([i + 0.2 for i in x], metrics)\n",
    "plt.ylim(0, 1)\n",
    "plt.ylabel('Score')\n",
    "plt.title('Comparison of Model Performance - binning one age and one hot encoding')\n",
    "plt.legend()\n",
    "plt.show()\n",
    "\n",
    "print(\"Model 3 Performance Summary (Cross-Validation):\")\n",
    "for i in range(len(metrics)):\n",
    "    print(f\"{metrics[i]}:\")\n",
    "    print(f\"  Base Model: {base_scores[i]:.4f}\")\n",
    "    print(f\"  New Model : {new_scores[i]:.4f}\")\n",
    "    print(\"-\" * 30)\n"
   ]
  },
  {
   "cell_type": "code",
   "execution_count": null,
   "id": "44982b2f",
   "metadata": {},
   "outputs": [],
   "source": [
    "## no visible improvement by doing the binning on age and one hot encoding\n",
    "# try ordinal encoding on agebin "
   ]
  },
  {
   "cell_type": "code",
   "execution_count": 44,
   "id": "b36f071a",
   "metadata": {},
   "outputs": [],
   "source": [
    "onehot_cols = ['Gender', 'Profession', 'Degree', 'Suicidal_Thoughts', 'Mental_Illness_History']\n",
    "ordinal_cols = ['Sleep_Duration', 'Dietary_Habits', 'Age_Bin']"
   ]
  },
  {
   "cell_type": "code",
   "execution_count": 45,
   "id": "8b6a5249",
   "metadata": {},
   "outputs": [],
   "source": [
    "ordinal_categories = [\n",
    "    ['Less than 5 hours', '5-6 hours', '7-8 hours', 'More than 8 hours'],  # Sleep_Duration\n",
    "    ['Unhealthy', 'Moderate', 'Healthy'],                                 # Dietary_Habits\n",
    "    ['Teen', 'Young_Adult', 'Adult', 'Older_Adult']                       # Age_Bin\n",
    "]"
   ]
  },
  {
   "cell_type": "code",
   "execution_count": 46,
   "id": "014e6192",
   "metadata": {},
   "outputs": [],
   "source": [
    "encoder = ColumnTransformer(\n",
    "    transformers=[\n",
    "        ('onehot', OneHotEncoder(handle_unknown='ignore', drop='first', sparse_output=False), onehot_cols),\n",
    "        ('ordinal', OrdinalEncoder(categories=ordinal_categories), ordinal_cols)\n",
    "    ],\n",
    "    remainder='passthrough'  # keep numeric features like Study_Hours, Academic_Pressure etc.\n",
    ")"
   ]
  },
  {
   "cell_type": "code",
   "execution_count": 47,
   "id": "bcb46fc7",
   "metadata": {},
   "outputs": [],
   "source": [
    "new_pipeline = Pipeline([\n",
    "    ('preprocessing', encoder),\n",
    "    ('scaler', StandardScaler()),\n",
    "    ('model', LogisticRegression(max_iter=10000, random_state=42))\n",
    "])"
   ]
  },
  {
   "cell_type": "code",
   "execution_count": 49,
   "id": "4b27c77f",
   "metadata": {},
   "outputs": [
    {
     "name": "stdout",
     "output_type": "stream",
     "text": [
      "Precision of each fold: [0.8558791  0.86343284 0.85125775 0.85822021 0.85107967]\n",
      "Average Precision: 0.8559739133953037\n"
     ]
    }
   ],
   "source": [
    "# Precision\n",
    "precision_cv_v4 = cross_val_score(new_pipeline, X_train_bin,y_train, cv=skf, scoring='precision')\n",
    "print(\"Precision of each fold:\", precision_cv_v4)\n",
    "print(\"Average Precision:\", precision_cv_v4.mean())"
   ]
  },
  {
   "cell_type": "code",
   "execution_count": 50,
   "id": "87d089d8",
   "metadata": {},
   "outputs": [
    {
     "name": "stdout",
     "output_type": "stream",
     "text": [
      "Recall of each fold: [0.88931444 0.88625048 0.89429337 0.87169667 0.87586207]\n",
      "Average Recall: 0.883483405750208\n"
     ]
    }
   ],
   "source": [
    "# Recall\n",
    "recall_cv_v4 = cross_val_score(new_pipeline, X_train_bin, y_train, cv=skf, scoring='recall')\n",
    "print(\"Recall of each fold:\", recall_cv_v4)\n",
    "print(\"Average Recall:\", recall_cv_v4.mean())"
   ]
  },
  {
   "cell_type": "code",
   "execution_count": 51,
   "id": "62968d34",
   "metadata": {},
   "outputs": [
    {
     "name": "stdout",
     "output_type": "stream",
     "text": [
      "F1 Score of each fold: [0.87227648 0.87469287 0.87224505 0.86490595 0.86329305]\n",
      "Average F1 Score: 0.8694826815014247\n"
     ]
    }
   ],
   "source": [
    "# F1 Score\n",
    "f1_cv_v4 = cross_val_score(new_pipeline, X_train_bin, y_train, cv=skf, scoring='f1')\n",
    "print(\"F1 Score of each fold:\", f1_cv_v4)\n",
    "print(\"Average F1 Score:\", f1_cv_v4.mean())"
   ]
  },
  {
   "cell_type": "code",
   "execution_count": 52,
   "id": "3fe54283",
   "metadata": {},
   "outputs": [
    {
     "data": {
      "image/png": "[encoded data removed]",
      "text/plain": [
       "<Figure size 640x480 with 1 Axes>"
      ]
     },
     "metadata": {},
     "output_type": "display_data"
    },
    {
     "name": "stdout",
     "output_type": "stream",
     "text": [
      "Model 4 Performance Summary (Cross-Validation):\n",
      "Precision:\n",
      "  Base Model: 0.8561\n",
      "  New Model : 0.8560\n",
      "------------------------------\n",
      "Recall:\n",
      "  Base Model: 0.8836\n",
      "  New Model : 0.8835\n",
      "------------------------------\n",
      "F1 Score:\n",
      "  Base Model: 0.8696\n",
      "  New Model : 0.8695\n",
      "------------------------------\n"
     ]
    }
   ],
   "source": [
    "import matplotlib.pyplot as plt\n",
    "\n",
    "# average scores\n",
    "base_scores = [precision_cv.mean(), recall_cv.mean(), f1_cv.mean()]\n",
    "new_scores = [precision_cv_v4.mean(), recall_cv_v4.mean(), f1_cv_v4.mean()]\n",
    "metrics = ['Precision', 'Recall', 'F1 Score']\n",
    "\n",
    "x = range(len(metrics))\n",
    "\n",
    "plt.bar(x, base_scores, width=0.4, label='Base Model', align='center')\n",
    "plt.bar([i + 0.4 for i in x], new_scores, width=0.4, label='New Model', align='center')\n",
    "\n",
    "plt.xticks([i + 0.2 for i in x], metrics)\n",
    "plt.ylim(0, 1)\n",
    "plt.ylabel('Score')\n",
    "plt.title('Comparison of Model Performance - binning one age and ordinal encoding')\n",
    "plt.legend()\n",
    "plt.show()\n",
    "\n",
    "print(\"Model 4 Performance Summary (Cross-Validation):\")\n",
    "for i in range(len(metrics)):\n",
    "    print(f\"{metrics[i]}:\")\n",
    "    print(f\"  Base Model: {base_scores[i]:.4f}\")\n",
    "    print(f\"  New Model : {new_scores[i]:.4f}\")\n",
    "    print(\"-\" * 30)\n"
   ]
  },
  {
   "cell_type": "code",
   "execution_count": null,
   "id": "944ca1f8",
   "metadata": {},
   "outputs": [],
   "source": [
    "## no improvement on doing binning on age and ordinal encoding the bins "
   ]
  },
  {
   "cell_type": "code",
   "execution_count": null,
   "id": "8201ea36",
   "metadata": {},
   "outputs": [],
   "source": [
    "## from all feature enginnering done so far after training the base model have not improved the model\n",
    "## so tried hyper parameter tuning"
   ]
  }
 ],
 "metadata": {
  "kernelspec": {
   "display_name": "ml-env",
   "language": "python",
   "name": "python3"
  },
  "language_info": {
   "codemirror_mode": {
    "name": "ipython",
    "version": 3
   },
   "file_extension": ".py",
   "mimetype": "text/x-python",
   "name": "python",
   "nbconvert_exporter": "python",
   "pygments_lexer": "ipython3",
   "version": "3.11.13"
  }
 },
 "nbformat": 4,
 "nbformat_minor": 5
}
