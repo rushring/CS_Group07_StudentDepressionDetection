{
 "cells": [
  {
   "cell_type": "markdown",
   "id": "20d96f0e",
   "metadata": {},
   "source": [
    "## Data Pre-Processing - Gradient Boosting Classifier Model"
   ]
  },
  {
   "cell_type": "markdown",
   "id": "72b5a46e",
   "metadata": {},
   "source": []
  },
  {
   "cell_type": "code",
   "execution_count": null,
   "id": "015277c5",
   "metadata": {},
   "outputs": [
    {
     "ename": "",
     "evalue": "",
     "output_type": "error",
     "traceback": [
      "\u001b[1;31mRunning cells with 'Python 3.13.0' requires the ipykernel package.\n",
      "\u001b[1;31m<a href='command:jupyter.createPythonEnvAndSelectController'>Create a Python Environment</a> with the required packages.\n",
      "\u001b[1;31mOr install 'ipykernel' using the command: 'c:/Users/menur/AppData/Local/Programs/Python/Python313/python.exe -m pip install ipykernel -U --user --force-reinstall'"
     ]
    }
   ],
   "source": [
    "import pandas as pd\n",
    "import numpy as np\n",
    "from sklearn.preprocessing import LabelEncoder, StandardScaler\n",
    "from imblearn.over_sampling import SMOTE\n",
    "from sklearn.model_selection import train_test_split\n",
    "\n",
    "df = pd.read_csv(\"D:\\Projects\\ML Project - 3rd year\\CS_Group07_StudentDepressionDetection\\Data\\Student Depression Dataset.csv\")  # adjust path if needed\n",
    "df.head()\n"
   ]
  },
  {
   "cell_type": "code",
   "execution_count": null,
   "id": "353c1b09",
   "metadata": {},
   "outputs": [],
   "source": [
    "# Remove rows with missing values\n",
    "df = df.dropna()\n",
    "df.columns = df.columns.str.strip().str.replace(\" \", \"_\").str.replace(\"?\", \"\")\n",
    "df.head()"
   ]
  },
  {
   "cell_type": "code",
   "execution_count": null,
   "id": "b3d2a8c6",
   "metadata": {},
   "outputs": [],
   "source": [
    "# Encode targert variable\n",
    "label_encoder = LabelEncoder()\n",
    "df['Depression'] = label_encoder.fit_transform(df['Depression'])  # 0 or 1"
   ]
  },
  {
   "cell_type": "code",
   "execution_count": null,
   "id": "f9ba08dc",
   "metadata": {},
   "outputs": [],
   "source": [
    "# One-hot encoding for all categorical columns\n",
    "X = df.drop(\"Depression\", axis=1)\n",
    "X = pd.get_dummies(X)\n",
    "y = df[\"Depression\"]"
   ]
  },
  {
   "cell_type": "code",
   "execution_count": null,
   "id": "8fd95446",
   "metadata": {},
   "outputs": [],
   "source": [
    "# Feature scaling\n",
    "scaler = StandardScaler()\n",
    "X_scaled = scaler.fit_transform(X)"
   ]
  },
  {
   "cell_type": "code",
   "execution_count": null,
   "id": "7f5eeec5",
   "metadata": {},
   "outputs": [],
   "source": [
    "# Split the dataset into training and testing sets\n",
    "X_train, X_test, y_train, y_test = train_test_split(X_scaled, y, test_size=0.2, random_state=42)\n"
   ]
  }
 ],
 "metadata": {
  "kernelspec": {
   "display_name": "Python 3",
   "language": "python",
   "name": "python3"
  },
  "language_info": {
   "name": "python",
   "version": "3.13.0"
  }
 },
 "nbformat": 4,
 "nbformat_minor": 5
}
