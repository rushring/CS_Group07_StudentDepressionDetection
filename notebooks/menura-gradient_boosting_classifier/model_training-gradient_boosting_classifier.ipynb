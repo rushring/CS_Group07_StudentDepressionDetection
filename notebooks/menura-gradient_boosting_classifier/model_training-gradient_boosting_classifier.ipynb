{
 "cells": [
  {
   "cell_type": "markdown",
   "id": "eeada848",
   "metadata": {},
   "source": [
    "# Model Training - Gradient Boosting Classifier Model\n"
   ]
  },
  {
   "cell_type": "markdown",
   "id": "38cdd74d",
   "metadata": {},
   "source": []
  }
 ],
 "metadata": {
  "language_info": {
   "name": "python"
  }
 },
 "nbformat": 4,
 "nbformat_minor": 5
}
