{
 "cells": [
  {
   "cell_type": "markdown",
   "id": "07e79b37",
   "metadata": {},
   "source": [
    "# Exploratory Data Analysis (EDA) – Gradient Boosting Classifier Model"
   ]
  },
  {
   "cell_type": "markdown",
   "id": "804912d0",
   "metadata": {},
   "source": [
    "## Dataset"
   ]
  },
  {
   "cell_type": "code",
   "execution_count": 15,
   "id": "6822600f",
   "metadata": {},
   "outputs": [],
   "source": [
    "import pandas as pd\n",
    "import numpy as np\n",
    "import seaborn as sns\n",
    "import matplotlib.pyplot as plt\n",
    "\n",
    "sns.set(style='darkgrid')\n",
    "%matplotlib inline\n"
   ]
  },
  {
   "cell_type": "code",
   "execution_count": 16,
   "id": "7d89fd4f",
   "metadata": {},
   "outputs": [
    {
     "data": {
      "text/html": [
       "<div>\n",
       "<style scoped>\n",
       "    .dataframe tbody tr th:only-of-type {\n",
       "        vertical-align: middle;\n",
       "    }\n",
       "\n",
       "    .dataframe tbody tr th {\n",
       "        vertical-align: top;\n",
       "    }\n",
       "\n",
       "    .dataframe thead th {\n",
       "        text-align: right;\n",
       "    }\n",
       "</style>\n",
       "<table border=\"1\" class=\"dataframe\">\n",
       "  <thead>\n",
       "    <tr style=\"text-align: right;\">\n",
       "      <th></th>\n",
       "      <th>id</th>\n",
       "      <th>Gender</th>\n",
       "      <th>Age</th>\n",
       "      <th>City</th>\n",
       "      <th>Profession</th>\n",
       "      <th>Academic Pressure</th>\n",
       "      <th>Work Pressure</th>\n",
       "      <th>CGPA</th>\n",
       "      <th>Study Satisfaction</th>\n",
       "      <th>Job Satisfaction</th>\n",
       "      <th>Sleep Duration</th>\n",
       "      <th>Dietary Habits</th>\n",
       "      <th>Degree</th>\n",
       "      <th>Have you ever had suicidal thoughts ?</th>\n",
       "      <th>Work/Study Hours</th>\n",
       "      <th>Financial Stress</th>\n",
       "      <th>Family History of Mental Illness</th>\n",
       "      <th>Depression</th>\n",
       "    </tr>\n",
       "  </thead>\n",
       "  <tbody>\n",
       "    <tr>\n",
       "      <th>0</th>\n",
       "      <td>2</td>\n",
       "      <td>Male</td>\n",
       "      <td>33.0</td>\n",
       "      <td>Visakhapatnam</td>\n",
       "      <td>Student</td>\n",
       "      <td>5.0</td>\n",
       "      <td>0.0</td>\n",
       "      <td>8.97</td>\n",
       "      <td>2.0</td>\n",
       "      <td>0.0</td>\n",
       "      <td>5-6 hours</td>\n",
       "      <td>Healthy</td>\n",
       "      <td>B.Pharm</td>\n",
       "      <td>Yes</td>\n",
       "      <td>3.0</td>\n",
       "      <td>1.0</td>\n",
       "      <td>No</td>\n",
       "      <td>1</td>\n",
       "    </tr>\n",
       "    <tr>\n",
       "      <th>1</th>\n",
       "      <td>8</td>\n",
       "      <td>Female</td>\n",
       "      <td>24.0</td>\n",
       "      <td>Bangalore</td>\n",
       "      <td>Student</td>\n",
       "      <td>2.0</td>\n",
       "      <td>0.0</td>\n",
       "      <td>5.90</td>\n",
       "      <td>5.0</td>\n",
       "      <td>0.0</td>\n",
       "      <td>5-6 hours</td>\n",
       "      <td>Moderate</td>\n",
       "      <td>BSc</td>\n",
       "      <td>No</td>\n",
       "      <td>3.0</td>\n",
       "      <td>2.0</td>\n",
       "      <td>Yes</td>\n",
       "      <td>0</td>\n",
       "    </tr>\n",
       "    <tr>\n",
       "      <th>2</th>\n",
       "      <td>26</td>\n",
       "      <td>Male</td>\n",
       "      <td>31.0</td>\n",
       "      <td>Srinagar</td>\n",
       "      <td>Student</td>\n",
       "      <td>3.0</td>\n",
       "      <td>0.0</td>\n",
       "      <td>7.03</td>\n",
       "      <td>5.0</td>\n",
       "      <td>0.0</td>\n",
       "      <td>Less than 5 hours</td>\n",
       "      <td>Healthy</td>\n",
       "      <td>BA</td>\n",
       "      <td>No</td>\n",
       "      <td>9.0</td>\n",
       "      <td>1.0</td>\n",
       "      <td>Yes</td>\n",
       "      <td>0</td>\n",
       "    </tr>\n",
       "    <tr>\n",
       "      <th>3</th>\n",
       "      <td>30</td>\n",
       "      <td>Female</td>\n",
       "      <td>28.0</td>\n",
       "      <td>Varanasi</td>\n",
       "      <td>Student</td>\n",
       "      <td>3.0</td>\n",
       "      <td>0.0</td>\n",
       "      <td>5.59</td>\n",
       "      <td>2.0</td>\n",
       "      <td>0.0</td>\n",
       "      <td>7-8 hours</td>\n",
       "      <td>Moderate</td>\n",
       "      <td>BCA</td>\n",
       "      <td>Yes</td>\n",
       "      <td>4.0</td>\n",
       "      <td>5.0</td>\n",
       "      <td>Yes</td>\n",
       "      <td>1</td>\n",
       "    </tr>\n",
       "    <tr>\n",
       "      <th>4</th>\n",
       "      <td>32</td>\n",
       "      <td>Female</td>\n",
       "      <td>25.0</td>\n",
       "      <td>Jaipur</td>\n",
       "      <td>Student</td>\n",
       "      <td>4.0</td>\n",
       "      <td>0.0</td>\n",
       "      <td>8.13</td>\n",
       "      <td>3.0</td>\n",
       "      <td>0.0</td>\n",
       "      <td>5-6 hours</td>\n",
       "      <td>Moderate</td>\n",
       "      <td>M.Tech</td>\n",
       "      <td>Yes</td>\n",
       "      <td>1.0</td>\n",
       "      <td>1.0</td>\n",
       "      <td>No</td>\n",
       "      <td>0</td>\n",
       "    </tr>\n",
       "  </tbody>\n",
       "</table>\n",
       "</div>"
      ],
      "text/plain": [
       "   id  Gender   Age           City Profession  Academic Pressure  \\\n",
       "0   2    Male  33.0  Visakhapatnam    Student                5.0   \n",
       "1   8  Female  24.0      Bangalore    Student                2.0   \n",
       "2  26    Male  31.0       Srinagar    Student                3.0   \n",
       "3  30  Female  28.0       Varanasi    Student                3.0   \n",
       "4  32  Female  25.0         Jaipur    Student                4.0   \n",
       "\n",
       "   Work Pressure  CGPA  Study Satisfaction  Job Satisfaction  \\\n",
       "0            0.0  8.97                 2.0               0.0   \n",
       "1            0.0  5.90                 5.0               0.0   \n",
       "2            0.0  7.03                 5.0               0.0   \n",
       "3            0.0  5.59                 2.0               0.0   \n",
       "4            0.0  8.13                 3.0               0.0   \n",
       "\n",
       "      Sleep Duration Dietary Habits   Degree  \\\n",
       "0          5-6 hours        Healthy  B.Pharm   \n",
       "1          5-6 hours       Moderate      BSc   \n",
       "2  Less than 5 hours        Healthy       BA   \n",
       "3          7-8 hours       Moderate      BCA   \n",
       "4          5-6 hours       Moderate   M.Tech   \n",
       "\n",
       "  Have you ever had suicidal thoughts ?  Work/Study Hours  Financial Stress  \\\n",
       "0                                   Yes               3.0               1.0   \n",
       "1                                    No               3.0               2.0   \n",
       "2                                    No               9.0               1.0   \n",
       "3                                   Yes               4.0               5.0   \n",
       "4                                   Yes               1.0               1.0   \n",
       "\n",
       "  Family History of Mental Illness  Depression  \n",
       "0                               No           1  \n",
       "1                              Yes           0  \n",
       "2                              Yes           0  \n",
       "3                              Yes           1  \n",
       "4                               No           0  "
      ]
     },
     "execution_count": 16,
     "metadata": {},
     "output_type": "execute_result"
    }
   ],
   "source": [
    "# Load the dataset\n",
    "df = pd.read_csv(\"/workspaces/CS_Group07_StudentDepressionDetection/Data/Student Depression Dataset.csv\")  # adjust path if needed\n",
    "df.head()\n"
   ]
  },
  {
   "cell_type": "markdown",
   "id": "1852e6ca",
   "metadata": {},
   "source": [
    "### Check shape, info, nulls"
   ]
  },
  {
   "cell_type": "code",
   "execution_count": 18,
   "id": "1e5eb69e",
   "metadata": {},
   "outputs": [
    {
     "name": "stdout",
     "output_type": "stream",
     "text": [
      "Shape (Rows, columns): (27901, 18)\n",
      "\n",
      "Info (Column type & non-null values):\n",
      "<class 'pandas.core.frame.DataFrame'>\n",
      "RangeIndex: 27901 entries, 0 to 27900\n",
      "Data columns (total 18 columns):\n",
      " #   Column                                 Non-Null Count  Dtype  \n",
      "---  ------                                 --------------  -----  \n",
      " 0   id                                     27901 non-null  int64  \n",
      " 1   Gender                                 27901 non-null  object \n",
      " 2   Age                                    27901 non-null  float64\n",
      " 3   City                                   27901 non-null  object \n",
      " 4   Profession                             27901 non-null  object \n",
      " 5   Academic Pressure                      27901 non-null  float64\n",
      " 6   Work Pressure                          27901 non-null  float64\n",
      " 7   CGPA                                   27901 non-null  float64\n",
      " 8   Study Satisfaction                     27901 non-null  float64\n",
      " 9   Job Satisfaction                       27901 non-null  float64\n",
      " 10  Sleep Duration                         27901 non-null  object \n",
      " 11  Dietary Habits                         27901 non-null  object \n",
      " 12  Degree                                 27901 non-null  object \n",
      " 13  Have you ever had suicidal thoughts ?  27901 non-null  object \n",
      " 14  Work/Study Hours                       27901 non-null  float64\n",
      " 15  Financial Stress                       27898 non-null  float64\n",
      " 16  Family History of Mental Illness       27901 non-null  object \n",
      " 17  Depression                             27901 non-null  int64  \n",
      "dtypes: float64(8), int64(2), object(8)\n",
      "memory usage: 3.8+ MB\n",
      "None\n",
      "\n",
      "Missing Values per column:\n",
      "id                                       0\n",
      "Gender                                   0\n",
      "Age                                      0\n",
      "City                                     0\n",
      "Profession                               0\n",
      "Academic Pressure                        0\n",
      "Work Pressure                            0\n",
      "CGPA                                     0\n",
      "Study Satisfaction                       0\n",
      "Job Satisfaction                         0\n",
      "Sleep Duration                           0\n",
      "Dietary Habits                           0\n",
      "Degree                                   0\n",
      "Have you ever had suicidal thoughts ?    0\n",
      "Work/Study Hours                         0\n",
      "Financial Stress                         3\n",
      "Family History of Mental Illness         0\n",
      "Depression                               0\n",
      "dtype: int64\n",
      "\n",
      "Duplicate rows: 0\n"
     ]
    }
   ],
   "source": [
    "print(\"Shape (Rows, columns):\", df.shape)\n",
    "print(\"\\nInfo (Column type & non-null values):\")\n",
    "print(df.info())\n",
    "print(\"\\nMissing Values per column:\")\n",
    "print(df.isnull().sum())\n",
    "print(\"\\nDuplicate rows:\", df.duplicated().sum())\n"
   ]
  },
  {
   "cell_type": "markdown",
<<<<<<< Updated upstream
<<<<<<< Updated upstream
   "id": "851bee76",
   "metadata": {},
   "source": [
    "### Drop nulls"
=======
=======
>>>>>>> Stashed changes
   "id": "39d2a8e1",
   "metadata": {},
   "source": [
    "### Check data types"
<<<<<<< Updated upstream
>>>>>>> Stashed changes
=======
>>>>>>> Stashed changes
   ]
  },
  {
   "cell_type": "code",
<<<<<<< Updated upstream
<<<<<<< Updated upstream
   "execution_count": 21,
   "id": "66f9fdf8",
   "metadata": {},
   "outputs": [
    {
     "name": "stdout",
     "output_type": "stream",
     "text": [
      "\n",
      "Shape after removing missing values: (27898, 18)\n"
     ]
    }
   ],
   "source": [
    "df = df.dropna() #Remove rows with missing values\n",
    "print(\"\\nShape after removing missing values:\", df.shape)"
   ]
  },
  {
   "cell_type": "markdown",
   "id": "e3fe07cc",
   "metadata": {},
   "source": [
    "### Clean column names"
   ]
  },
  {
   "cell_type": "markdown",
   "id": "7de66ded",
   "metadata": {},
   "source": [
    "Removes spaces and question marks in column names"
   ]
  },
  {
   "cell_type": "code",
   "execution_count": 20,
   "id": "131cb7c8",
=======
   "execution_count": 186,
   "id": "0d2e9a67",
>>>>>>> Stashed changes
=======
   "execution_count": 186,
   "id": "0d2e9a67",
>>>>>>> Stashed changes
   "metadata": {},
   "outputs": [
    {
     "data": {
<<<<<<< Updated upstream
<<<<<<< Updated upstream
      "text/html": [
       "<div>\n",
       "<style scoped>\n",
       "    .dataframe tbody tr th:only-of-type {\n",
       "        vertical-align: middle;\n",
       "    }\n",
       "\n",
       "    .dataframe tbody tr th {\n",
       "        vertical-align: top;\n",
       "    }\n",
       "\n",
       "    .dataframe thead th {\n",
       "        text-align: right;\n",
       "    }\n",
       "</style>\n",
       "<table border=\"1\" class=\"dataframe\">\n",
       "  <thead>\n",
       "    <tr style=\"text-align: right;\">\n",
       "      <th></th>\n",
       "      <th>id</th>\n",
       "      <th>Gender</th>\n",
       "      <th>Age</th>\n",
       "      <th>City</th>\n",
       "      <th>Profession</th>\n",
       "      <th>Academic_Pressure</th>\n",
       "      <th>Work_Pressure</th>\n",
       "      <th>CGPA</th>\n",
       "      <th>Study_Satisfaction</th>\n",
       "      <th>Job_Satisfaction</th>\n",
       "      <th>Sleep_Duration</th>\n",
       "      <th>Dietary_Habits</th>\n",
       "      <th>Degree</th>\n",
       "      <th>Have_you_ever_had_suicidal_thoughts_</th>\n",
       "      <th>Work/Study_Hours</th>\n",
       "      <th>Financial_Stress</th>\n",
       "      <th>Family_History_of_Mental_Illness</th>\n",
       "      <th>Depression</th>\n",
       "    </tr>\n",
       "  </thead>\n",
       "  <tbody>\n",
       "    <tr>\n",
       "      <th>0</th>\n",
       "      <td>2</td>\n",
       "      <td>Male</td>\n",
       "      <td>33.0</td>\n",
       "      <td>Visakhapatnam</td>\n",
       "      <td>Student</td>\n",
       "      <td>5.0</td>\n",
       "      <td>0.0</td>\n",
       "      <td>8.97</td>\n",
       "      <td>2.0</td>\n",
       "      <td>0.0</td>\n",
       "      <td>5-6 hours</td>\n",
       "      <td>Healthy</td>\n",
       "      <td>B.Pharm</td>\n",
       "      <td>Yes</td>\n",
       "      <td>3.0</td>\n",
       "      <td>1.0</td>\n",
       "      <td>No</td>\n",
       "      <td>1</td>\n",
       "    </tr>\n",
       "    <tr>\n",
       "      <th>1</th>\n",
       "      <td>8</td>\n",
       "      <td>Female</td>\n",
       "      <td>24.0</td>\n",
       "      <td>Bangalore</td>\n",
       "      <td>Student</td>\n",
       "      <td>2.0</td>\n",
       "      <td>0.0</td>\n",
       "      <td>5.90</td>\n",
       "      <td>5.0</td>\n",
       "      <td>0.0</td>\n",
       "      <td>5-6 hours</td>\n",
       "      <td>Moderate</td>\n",
       "      <td>BSc</td>\n",
       "      <td>No</td>\n",
       "      <td>3.0</td>\n",
       "      <td>2.0</td>\n",
       "      <td>Yes</td>\n",
       "      <td>0</td>\n",
       "    </tr>\n",
       "    <tr>\n",
       "      <th>2</th>\n",
       "      <td>26</td>\n",
       "      <td>Male</td>\n",
       "      <td>31.0</td>\n",
       "      <td>Srinagar</td>\n",
       "      <td>Student</td>\n",
       "      <td>3.0</td>\n",
       "      <td>0.0</td>\n",
       "      <td>7.03</td>\n",
       "      <td>5.0</td>\n",
       "      <td>0.0</td>\n",
       "      <td>Less than 5 hours</td>\n",
       "      <td>Healthy</td>\n",
       "      <td>BA</td>\n",
       "      <td>No</td>\n",
       "      <td>9.0</td>\n",
       "      <td>1.0</td>\n",
       "      <td>Yes</td>\n",
       "      <td>0</td>\n",
       "    </tr>\n",
       "    <tr>\n",
       "      <th>3</th>\n",
       "      <td>30</td>\n",
       "      <td>Female</td>\n",
       "      <td>28.0</td>\n",
       "      <td>Varanasi</td>\n",
       "      <td>Student</td>\n",
       "      <td>3.0</td>\n",
       "      <td>0.0</td>\n",
       "      <td>5.59</td>\n",
       "      <td>2.0</td>\n",
       "      <td>0.0</td>\n",
       "      <td>7-8 hours</td>\n",
       "      <td>Moderate</td>\n",
       "      <td>BCA</td>\n",
       "      <td>Yes</td>\n",
       "      <td>4.0</td>\n",
       "      <td>5.0</td>\n",
       "      <td>Yes</td>\n",
       "      <td>1</td>\n",
       "    </tr>\n",
       "    <tr>\n",
       "      <th>4</th>\n",
       "      <td>32</td>\n",
       "      <td>Female</td>\n",
       "      <td>25.0</td>\n",
       "      <td>Jaipur</td>\n",
       "      <td>Student</td>\n",
       "      <td>4.0</td>\n",
       "      <td>0.0</td>\n",
       "      <td>8.13</td>\n",
       "      <td>3.0</td>\n",
       "      <td>0.0</td>\n",
       "      <td>5-6 hours</td>\n",
       "      <td>Moderate</td>\n",
       "      <td>M.Tech</td>\n",
       "      <td>Yes</td>\n",
       "      <td>1.0</td>\n",
       "      <td>1.0</td>\n",
       "      <td>No</td>\n",
       "      <td>0</td>\n",
       "    </tr>\n",
       "  </tbody>\n",
       "</table>\n",
       "</div>"
      ],
      "text/plain": [
       "   id  Gender   Age           City Profession  Academic_Pressure  \\\n",
       "0   2    Male  33.0  Visakhapatnam    Student                5.0   \n",
       "1   8  Female  24.0      Bangalore    Student                2.0   \n",
       "2  26    Male  31.0       Srinagar    Student                3.0   \n",
       "3  30  Female  28.0       Varanasi    Student                3.0   \n",
       "4  32  Female  25.0         Jaipur    Student                4.0   \n",
       "\n",
       "   Work_Pressure  CGPA  Study_Satisfaction  Job_Satisfaction  \\\n",
       "0            0.0  8.97                 2.0               0.0   \n",
       "1            0.0  5.90                 5.0               0.0   \n",
       "2            0.0  7.03                 5.0               0.0   \n",
       "3            0.0  5.59                 2.0               0.0   \n",
       "4            0.0  8.13                 3.0               0.0   \n",
       "\n",
       "      Sleep_Duration Dietary_Habits   Degree  \\\n",
       "0          5-6 hours        Healthy  B.Pharm   \n",
       "1          5-6 hours       Moderate      BSc   \n",
       "2  Less than 5 hours        Healthy       BA   \n",
       "3          7-8 hours       Moderate      BCA   \n",
       "4          5-6 hours       Moderate   M.Tech   \n",
       "\n",
       "  Have_you_ever_had_suicidal_thoughts_  Work/Study_Hours  Financial_Stress  \\\n",
       "0                                  Yes               3.0               1.0   \n",
       "1                                   No               3.0               2.0   \n",
       "2                                   No               9.0               1.0   \n",
       "3                                  Yes               4.0               5.0   \n",
       "4                                  Yes               1.0               1.0   \n",
       "\n",
       "  Family_History_of_Mental_Illness  Depression  \n",
       "0                               No           1  \n",
       "1                              Yes           0  \n",
       "2                              Yes           0  \n",
       "3                              Yes           1  \n",
       "4                               No           0  "
      ]
     },
     "execution_count": 20,
=======
=======
>>>>>>> Stashed changes
      "text/plain": [
       "id                                         int64\n",
       "Gender                                    object\n",
       "Age                                      float64\n",
       "City                                      object\n",
       "Profession                                object\n",
       "Academic Pressure                        float64\n",
       "Work Pressure                            float64\n",
       "CGPA                                     float64\n",
       "Study Satisfaction                       float64\n",
       "Job Satisfaction                         float64\n",
       "Sleep Duration                            object\n",
       "Dietary Habits                            object\n",
       "Degree                                    object\n",
       "Have you ever had suicidal thoughts ?     object\n",
       "Work/Study Hours                         float64\n",
       "Financial Stress                         float64\n",
       "Family History of Mental Illness          object\n",
       "Depression                                 int64\n",
       "dtype: object"
      ]
     },
     "execution_count": 186,
<<<<<<< Updated upstream
>>>>>>> Stashed changes
=======
>>>>>>> Stashed changes
     "metadata": {},
     "output_type": "execute_result"
    }
   ],
   "source": [
<<<<<<< Updated upstream
<<<<<<< Updated upstream
    "df.columns = df.columns.str.strip().str.replace(\" \", \"_\").str.replace(\"?\", \"\")\n",
    "df.head()"
=======
    "df.dtypes"
>>>>>>> Stashed changes
=======
    "df.dtypes"
>>>>>>> Stashed changes
   ]
  },
  {
   "cell_type": "markdown",
   "id": "0b2dbdf3",
   "metadata": {},
   "source": [
    "## Analysis"
   ]
  },
  {
   "cell_type": "markdown",
   "id": "b16f0310",
   "metadata": {},
   "source": [
    "### Statistical summary "
   ]
  },
  {
   "cell_type": "code",
   "execution_count": 22,
   "id": "f48338e1",
   "metadata": {},
   "outputs": [
    {
     "name": "stdout",
     "output_type": "stream",
     "text": [
      "                   id Gender           Age    City Profession  \\\n",
      "count    27898.000000  27898  27898.000000   27898      27898   \n",
      "unique            NaN      2           NaN      52         14   \n",
      "top               NaN   Male           NaN  Kalyan    Student   \n",
      "freq              NaN  15546           NaN    1570      27867   \n",
      "mean     70442.953402    NaN     25.822174     NaN        NaN   \n",
      "std      40642.015063    NaN      4.905651     NaN        NaN   \n",
      "min          2.000000    NaN     18.000000     NaN        NaN   \n",
      "25%      35040.750000    NaN     21.000000     NaN        NaN   \n",
      "50%      70689.000000    NaN     25.000000     NaN        NaN   \n",
      "75%     105824.750000    NaN     30.000000     NaN        NaN   \n",
      "max     140699.000000    NaN     59.000000     NaN        NaN   \n",
      "\n",
      "        Academic_Pressure  Work_Pressure          CGPA  Study_Satisfaction  \\\n",
      "count        27898.000000   27898.000000  27898.000000        27898.000000   \n",
      "unique                NaN            NaN           NaN                 NaN   \n",
      "top                   NaN            NaN           NaN                 NaN   \n",
      "freq                  NaN            NaN           NaN                 NaN   \n",
      "mean             3.141336       0.000430      7.656160            2.943974   \n",
      "std              1.381462       0.043994      1.470708            1.361122   \n",
      "min              0.000000       0.000000      0.000000            0.000000   \n",
      "25%              2.000000       0.000000      6.290000            2.000000   \n",
      "50%              3.000000       0.000000      7.770000            3.000000   \n",
      "75%              4.000000       0.000000      8.920000            4.000000   \n",
      "max              5.000000       5.000000     10.000000            5.000000   \n",
      "\n",
      "        Job_Satisfaction     Sleep_Duration Dietary_Habits    Degree  \\\n",
      "count       27898.000000              27898          27898     27898   \n",
      "unique               NaN                  5              4        28   \n",
      "top                  NaN  Less than 5 hours      Unhealthy  Class 12   \n",
      "freq                 NaN               8309          10316      6080   \n",
      "mean            0.000681                NaN            NaN       NaN   \n",
      "std             0.044397                NaN            NaN       NaN   \n",
      "min             0.000000                NaN            NaN       NaN   \n",
      "25%             0.000000                NaN            NaN       NaN   \n",
      "50%             0.000000                NaN            NaN       NaN   \n",
      "75%             0.000000                NaN            NaN       NaN   \n",
      "max             4.000000                NaN            NaN       NaN   \n",
      "\n",
      "       Have_you_ever_had_suicidal_thoughts_  Work/Study_Hours  \\\n",
      "count                                 27898      27898.000000   \n",
      "unique                                    2               NaN   \n",
      "top                                     Yes               NaN   \n",
      "freq                                  17656               NaN   \n",
      "mean                                    NaN          7.156570   \n",
      "std                                     NaN          3.707598   \n",
      "min                                     NaN          0.000000   \n",
      "25%                                     NaN          4.000000   \n",
      "50%                                     NaN          8.000000   \n",
      "75%                                     NaN         10.000000   \n",
      "max                                     NaN         12.000000   \n",
      "\n",
      "        Financial_Stress Family_History_of_Mental_Illness    Depression  \n",
      "count       27898.000000                            27898  27898.000000  \n",
      "unique               NaN                                2           NaN  \n",
      "top                  NaN                               No           NaN  \n",
      "freq                 NaN                            14397           NaN  \n",
      "mean            3.139867                              NaN      0.585526  \n",
      "std             1.437347                              NaN      0.492640  \n",
      "min             1.000000                              NaN      0.000000  \n",
      "25%             2.000000                              NaN      0.000000  \n",
      "50%             3.000000                              NaN      1.000000  \n",
      "75%             4.000000                              NaN      1.000000  \n",
      "max             5.000000                              NaN      1.000000  \n"
     ]
    }
   ],
   "source": [
    "print(df.describe(include='all'))"
   ]
  },
  {
   "cell_type": "markdown",
   "id": "629dcf9e",
   "metadata": {},
   "source": [
    "### Target column distribution (Depressed vs Not Depressed)"
   ]
  },
  {
   "cell_type": "code",
   "execution_count": 23,
   "id": "24ad0ae7",
   "metadata": {},
   "outputs": [
    {
     "data": {
      "image/png": "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",
      "text/plain": [
       "<Figure size 640x480 with 1 Axes>"
      ]
     },
     "metadata": {},
     "output_type": "display_data"
    }
   ],
   "source": [
    "sns.countplot(data=df, x='Depression')\n",
    "plt.title('Depression Status Distribution')\n",
    "plt.show()\n"
   ]
  },
  {
   "cell_type": "markdown",
   "id": "596ded9a",
   "metadata": {},
   "source": [
    "### Separate categorical and numerical"
   ]
  },
  {
   "cell_type": "code",
   "execution_count": null,
   "id": "5239b601",
   "metadata": {},
   "outputs": [],
   "source": [
    "categorical_cols = df.select_dtypes(include='object').columns.tolist()\n",
    "numerical_cols = df.select_dtypes(include=['int64', 'float64']).columns.tolist()\n",
    "print(\"\\nCategorical Columns:\", categorical_cols)\n",
    "print(\"Numerical Columns:\", numerical_cols)\n"
   ]
  },
  {
   "cell_type": "markdown",
   "id": "30e02da7",
   "metadata": {},
   "source": [
    "### Distribution plots for numerical columns"
   ]
  },
  {
   "cell_type": "code",
   "execution_count": null,
   "id": "e7129b7f",
   "metadata": {},
   "outputs": [],
   "source": [
    "for col in numerical_cols:\n",
    "    plt.figure(figsize=(6, 4))\n",
    "    sns.histplot(df[col], kde=True, color='skyblue')\n",
    "    plt.title(f'Distribution of {col}')\n",
    "    plt.show()\n"
   ]
  },
  {
   "cell_type": "markdown",
   "id": "8ae1544a",
   "metadata": {},
   "source": [
    "### Count plots for categorical columns"
   ]
  },
  {
   "cell_type": "code",
   "execution_count": null,
   "id": "8ab38f94",
   "metadata": {},
   "outputs": [],
   "source": [
    "for col in categorical_cols:\n",
    "    plt.figure(figsize=(8, 4))\n",
    "    sns.countplot(data=df, x=col, order=df[col].value_counts().index, palette='pastel')\n",
    "    plt.title(f'Category Distribution: {col}')\n",
    "    plt.xticks(rotation=45)\n",
    "    plt.tight_layout()\n",
    "    plt.show()\n"
   ]
  },
  {
   "cell_type": "markdown",
   "id": "4546c6bd",
   "metadata": {},
   "source": [
    "### Boxplots for numerical columns vs target"
   ]
  },
  {
   "cell_type": "code",
   "execution_count": null,
   "id": "aeb13bc3",
   "metadata": {},
   "outputs": [],
   "source": [
    "for col in numerical_cols:\n",
    "    plt.figure(figsize=(6, 4))\n",
    "    sns.boxplot(data=df, x='Depression', y=col, palette='coolwarm')\n",
    "    plt.title(f'{col} vs Depression')\n",
    "    plt.show()\n"
   ]
  },
  {
   "cell_type": "markdown",
   "id": "0d29bc02",
   "metadata": {},
   "source": [
    "### Count plots of categorical vs target"
   ]
  },
  {
   "cell_type": "code",
   "execution_count": null,
   "id": "7b4b4b13",
   "metadata": {},
   "outputs": [],
   "source": [
    "for col in categorical_cols:\n",
    "    plt.figure(figsize=(8, 4))\n",
    "    sns.countplot(data=df, x=col, hue='Depression', order=df[col].value_counts().index, palette='muted')\n",
    "    plt.title(f'{col} vs Depression')\n",
    "    plt.xticks(rotation=45)\n",
    "    plt.tight_layout()\n",
    "    plt.show()\n"
   ]
  },
  {
   "cell_type": "markdown",
   "id": "c923268f",
   "metadata": {},
   "source": [
    "### Correlation heatmap"
   ]
  },
  {
   "cell_type": "code",
   "execution_count": null,
   "id": "6b755d4c",
   "metadata": {},
   "outputs": [],
   "source": [
    "plt.figure(figsize=(10, 8))\n",
    "corr = df.select_dtypes(include=['int64', 'float64']).corr()\n",
    "sns.heatmap(corr, annot=True, cmap='coolwarm')\n",
    "plt.title(\"Correlation Heatmap\")\n",
    "plt.show()\n"
   ]
<<<<<<< Updated upstream
=======
  },
  {
   "cell_type": "markdown",
   "id": "bc2279d4",
   "metadata": {},
   "source": [
    "## Analyse Variables and Drepressed Students "
   ]
  },
  {
   "cell_type": "code",
   "execution_count": 196,
   "id": "5e67d7cd",
   "metadata": {},
   "outputs": [],
   "source": [
    "no_depression = df[df['Depression'] == 0]\n",
    "depression = df[df['Depression'] == 1]"
   ]
  },
  {
   "cell_type": "markdown",
   "id": "fd1754d8",
   "metadata": {},
   "source": [
    "### Gender"
   ]
  },
  {
   "cell_type": "code",
   "execution_count": 197,
   "id": "7d1d54aa",
   "metadata": {},
   "outputs": [
    {
     "data": {
      "text/plain": [
       "Gender\n",
       "Male      9115\n",
       "Female    7220\n",
       "Name: count, dtype: int64"
      ]
     },
     "execution_count": 197,
     "metadata": {},
     "output_type": "execute_result"
    }
   ],
   "source": [
    "depression['Gender'].value_counts()"
   ]
  },
  {
   "cell_type": "markdown",
   "id": "a39b6561",
   "metadata": {},
   "source": [
    "### Age"
   ]
  },
  {
   "cell_type": "code",
   "execution_count": 198,
   "id": "c16d35de",
   "metadata": {},
   "outputs": [
    {
     "data": {
      "text/plain": [
       "<Axes: xlabel='Age', ylabel='Count'>"
      ]
     },
     "execution_count": 198,
     "metadata": {},
     "output_type": "execute_result"
    },
    {
     "data": {
      "image/png": "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",
      "text/plain": [
       "<Figure size 640x480 with 1 Axes>"
      ]
     },
     "metadata": {},
     "output_type": "display_data"
    }
   ],
   "source": [
    "sns.histplot(depression['Age'], color='blue', bins=20)"
   ]
  },
  {
   "cell_type": "markdown",
   "id": "7191a5dd",
   "metadata": {},
   "source": [
    "### City"
   ]
  },
  {
   "cell_type": "code",
   "execution_count": 199,
   "id": "631191f9",
   "metadata": {},
   "outputs": [
    {
     "data": {
      "text/plain": [
       "City\n",
       "Kalyan           934\n",
       "Hyderabad        897\n",
       "Srinagar         763\n",
       "Vasai-Virar      739\n",
       "Thane            673\n",
       "Kolkata          649\n",
       "Ludhiana         647\n",
       "Lucknow          641\n",
       "Ahmedabad        640\n",
       "Patna            636\n",
       "Surat            625\n",
       "Agra             585\n",
       "Bhopal           579\n",
       "Visakhapatnam    552\n",
       "Jaipur           543\n",
       "Pune             541\n",
       "Chennai          528\n",
       "Rajkot           511\n",
       "Meerut           493\n",
       "Delhi            468\n",
       "Bangalore        467\n",
       "Ghaziabad        428\n",
       "Vadodara         390\n",
       "Indore           389\n",
       "Mumbai           386\n",
       "Varanasi         363\n",
       "Nagpur           363\n",
       "Kanpur           330\n",
       "Nashik           289\n",
       "Faridabad        271\n",
       "Saanvi             2\n",
       "Bhavna             2\n",
       "City               1\n",
       "3.0                1\n",
       "Mira               1\n",
       "Harsha             1\n",
       "Vaanya             1\n",
       "Gaurav             1\n",
       "Harsh              1\n",
       "M.Com              1\n",
       "Mihir              1\n",
       "Nalini             1\n",
       "Khaziabad          1\n",
       "Name: count, dtype: int64"
      ]
     },
     "execution_count": 199,
     "metadata": {},
     "output_type": "execute_result"
    }
   ],
   "source": [
    "depression['City'].value_counts()"
   ]
  },
  {
   "cell_type": "markdown",
   "id": "34d3931e",
   "metadata": {},
   "source": [
    "### Profession"
   ]
  },
  {
   "cell_type": "code",
   "execution_count": 200,
   "id": "631909bb",
   "metadata": {},
   "outputs": [
    {
     "data": {
      "text/plain": [
       "Profession\n",
       "Student                   16307\n",
       "Architect                     7\n",
       "Teacher                       5\n",
       "Content Writer                2\n",
       "Chef                          2\n",
       "Digital Marketer              2\n",
       "Pharmacist                    2\n",
       "Doctor                        2\n",
       "UX/UI Designer                1\n",
       "Civil Engineer                1\n",
       "Manager                       1\n",
       "Educational Consultant        1\n",
       "Lawyer                        1\n",
       "Entrepreneur                  1\n",
       "Name: count, dtype: int64"
      ]
     },
     "execution_count": 200,
     "metadata": {},
     "output_type": "execute_result"
    }
   ],
   "source": [
    "depression['Profession'].value_counts()"
   ]
  },
  {
   "cell_type": "markdown",
   "id": "a754fac9",
   "metadata": {},
   "source": []
  },
  {
   "cell_type": "markdown",
   "id": "62b65321",
   "metadata": {},
   "source": [
    "### Academic Pressure"
   ]
  },
  {
   "cell_type": "code",
   "execution_count": 201,
   "id": "d338823d",
   "metadata": {},
   "outputs": [
    {
     "data": {
      "text/plain": [
       "<Axes: xlabel='Academic_Pressure', ylabel='Count'>"
      ]
     },
     "execution_count": 201,
     "metadata": {},
     "output_type": "execute_result"
    },
    {
     "data": {
      "image/png": "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",
      "text/plain": [
       "<Figure size 640x480 with 1 Axes>"
      ]
     },
     "metadata": {},
     "output_type": "display_data"
    }
   ],
   "source": [
    "sns.histplot(depression['Academic_Pressure'], color='red', bins=20)"
   ]
  },
  {
   "cell_type": "markdown",
   "id": "e868f95f",
   "metadata": {},
   "source": []
  },
  {
   "cell_type": "markdown",
   "id": "0ef85cb4",
   "metadata": {},
   "source": [
    "### CGPA"
   ]
  },
  {
   "cell_type": "code",
   "execution_count": 202,
   "id": "ac91785d",
   "metadata": {},
   "outputs": [
    {
     "data": {
      "text/plain": [
       "CGPA\n",
       "8.0400    533\n",
       "9.9600    274\n",
       "8.9500    232\n",
       "5.7400    222\n",
       "9.2100    212\n",
       "         ... \n",
       "6.3200      1\n",
       "6.2400      1\n",
       "6.6400      1\n",
       "7.0625      1\n",
       "6.4400      1\n",
       "Name: count, Length: 325, dtype: int64"
      ]
     },
     "execution_count": 202,
     "metadata": {},
     "output_type": "execute_result"
    }
   ],
   "source": [
    "depression['CGPA'].value_counts()"
   ]
  },
  {
   "cell_type": "code",
   "execution_count": 203,
   "id": "a07bd5b7",
   "metadata": {},
   "outputs": [
    {
     "data": {
      "text/plain": [
       "<Axes: xlabel='CGPA', ylabel='Count'>"
      ]
     },
     "execution_count": 203,
     "metadata": {},
     "output_type": "execute_result"
    },
    {
     "data": {
      "image/png": "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",
      "text/plain": [
       "<Figure size 640x480 with 1 Axes>"
      ]
     },
     "metadata": {},
     "output_type": "display_data"
    }
   ],
   "source": [
    "sns.histplot(depression['CGPA'], color='green', bins=20)"
   ]
  },
  {
   "cell_type": "markdown",
   "id": "1bc897cb",
   "metadata": {},
   "source": []
  },
  {
   "cell_type": "markdown",
   "id": "5f8df6b6",
   "metadata": {},
   "source": [
    "### Work per Study Hour"
   ]
  },
  {
   "cell_type": "code",
   "execution_count": 204,
   "id": "aa4e2c93",
   "metadata": {},
   "outputs": [
    {
     "data": {
      "text/plain": [
       "Work/Study_Hours\n",
       "10.0    2979\n",
       "12.0    2168\n",
       "11.0    1960\n",
       "8.0     1568\n",
       "6.0     1288\n",
       "9.0     1214\n",
       "7.0     1176\n",
       "4.0      815\n",
       "5.0      706\n",
       "3.0      697\n",
       "2.0      696\n",
       "0.0      604\n",
       "1.0      464\n",
       "Name: count, dtype: int64"
      ]
     },
     "execution_count": 204,
     "metadata": {},
     "output_type": "execute_result"
    }
   ],
   "source": [
    "depression['Work/Study_Hours'].value_counts()"
   ]
  },
  {
   "cell_type": "code",
   "execution_count": 205,
   "id": "f2e79987",
   "metadata": {},
   "outputs": [
    {
     "data": {
      "text/plain": [
       "<Axes: xlabel='Work/Study_Hours', ylabel='Count'>"
      ]
     },
     "execution_count": 205,
     "metadata": {},
     "output_type": "execute_result"
    },
    {
     "data": {
      "image/png": "iVBORw0KGgoAAAANSUhEUgAAAkwAAAG3CAYAAABG2QqEAAAAOnRFWHRTb2Z0d2FyZQBNYXRwbG90bGliIHZlcnNpb24zLjEwLjMsIGh0dHBzOi8vbWF0cGxvdGxpYi5vcmcvZiW1igAAAAlwSFlzAAAPYQAAD2EBqD+naQAARmVJREFUeJzt3Xt8k/Xd//F3khIKbUMpIvwo4qDYSqUDqtAyhWoVD9gqyNAxEQTKhIJyI+LYRO5x0M0p9AbkYLHzgIDaPYDbOarOIR3eDtxtFRVPtCCncSOnknLqIcnvD2gkpO2VtglJ6ev5ePAIva5vvvnkk7Z597quXJfJ5XK5BAAAgFqZg10AAABAqCMwAQAAGCAwAQAAGCAwAQAAGCAwAQAAGCAwAQAAGCAwAQAAGCAwAQAAGAgLdgGXEpfLJafT/+cBNZtNAZn3UkSv6od++Y5e+Y5e+Y5e+S5QvTKbTTKZTIbjCEx+5HS6dPToSb/OGRZmVtu2EbLbT6mqyunXuS819Kp+6Jfv6JXv6JXv6JXvAtmrmJgIWSzGgYldcgAAAAYITAAAAAYITAAAAAYITAAAAAYITAAAAAYITAAAAAYITAAAAAYITAAAAAaCHpg2b96skSNHKjU1VT179tTNN9+s3//+9yorK/MYV1hYqCFDhigpKUmDBg3SqlWrapwvLy9P6enpSkpK0rBhw7R161avMSdOnNCsWbOUkpKiPn36aMKECdq/f39Anh8AAGj6gh6Yjh8/rj59+mju3LnKy8vTmDFjtH79ek2ZMsU95tNPP1V2drYSExO1YsUKDR06VPPmzVN+fr7HXHl5ecrJydH999+v3NxcXXnllRo/fry+/fZbj3HTpk3Txo0b9eSTTyonJ0c//PCDxowZozNnzlyU5wwAAJqWoF8aJSMjQxkZGe6vU1JSZLVa9eSTT+rgwYPq0KGDlixZosTERD399NOSpNTUVB04cEALFy7UsGHDZDabVVFRoWXLlmnUqFEaN26cJKlfv37KzMzU8uXLlZOTI0natm2bNm3apNzcXKWlpUmS4uPjNWjQIK1bt04jRoy4yB0AAAChLuhbmGoSHR0tSaqqqlJFRYW2bNmiO++802NMZmamDh06pK+++kqSVFRUpLKyMo/wZbFYNHjwYBUWFsrlOnvBvsLCQtlsNg0cONA9rlOnTkpOTlZhYWGAnxkAAGiKQiYwORwOlZeXa/v27VqyZIluuukmxcbGas+ePaqsrFS3bt08xnfv3l2SVFJS4nF74bi4uDidPHlSBw8edI/r2rWr15WJu3fv7p4DAADgfEHfJVftpptucoeaAQMGaMGCBZLOHuMkSTabzWN89dfV6+12u6xWq8LDwz3GtWnTRpJUWlqqjh07ym63KyoqyuvxbTabe67GCAvzbwa1WMwet6gdvaof+uU7euU7euU7euW7UOhVyASm3NxcnTp1SsXFxVq6dKkmTJigl156yb3+wi1CNS2vaUz1rjijcXUt95XZbFLbthGNmqM2NlurgMx7KaJX9UO/fEevfEevfEevfBfMXoVMYLr66qslScnJyUpMTNSwYcP0t7/9zb3r7cKtP3a7XdKPW5psNpvKy8tVXl6uli1beo2r3tJks9l04MABr8e32+1eW7Hqy+l0yW4/1ag5LmSxmGWztZLdfloOh9Ovc19q6FX90C/f0SvfNcdemUwmmc31/4PbbDYpMjJcJ06ckdPpqnGM0+ly/+HfnAXy+8pma+XTlquQCUzn69GjhywWi/bs2aP09HS1aNFCO3fu9DhQu7i4WNLZY5TOvy0pKVFiYqJ7XElJiSIiItShQwf3uI8++kgul8tji1JxcbF7jsaoqgrMLwiHwxmwuS819Kp+6Jfv6JXvmkuvzGaT2ka3krkRu4oiI8NrXed0OHWs9FStgaq5Ceb3VUgGpk8//VQOh0OdO3eW1WpVamqqCgoK9OCDD7rHvP3222rfvr07HCUnJysqKkobNmxwL3M4HCooKFBaWpo7HKWlpWnJkiXavHmzO4AdOHBARUVFmjlz5sV9ogCAJs1sNslsMWvj7E0q3V1ar/uaTCaFWcyqcjhr3IoUfWW00v/zRpnNJgJTCAh6YJo8ebJ69uyphIQEhYeH65tvvtGLL76ohIQE3XLLLZKkSZMmaeTIkZo5c6YyMzNVVFSk/Px8zZkzR2bz2VRvtVo1ceJE5eTkKCYmRomJicrPz9fevXvdB5BLUq9evXTjjTfqiSee0IwZMxQZGamFCxcqNjZWQ4cODUoPAABNW+nuUh357ki97mMymdQizKLKKge73ZqAoAemn/70p9qwYYNyc3PlcrkUGxure++9V+PGjZPVapUk9enTR0uXLtWCBQu0fv16dezYUTNnztTw4cM95ho7dqxcLpdWrlypw4cPKz4+Xrm5uUpISPAYN3/+fD3zzDOaPXu2KisrlZKSosWLF3t9wg4AAECSTC5ird84HE4dPXrSr3OGhZnVtm2Ejh072SyOB2gMelU/9Mt39Mp3za1X1c937dj1ft/C1C6+ne7505Bm08u6BPL7KiYmwqeDvjn5AwAAgAECEwAAgAECEwAAgAECEwAAgAECEwAAgAECEwAAgAECEwAAgAECEwAAgAECEwAAgAECEwAAgAECEwAAgAECEwAAgAECEwAAgAECEwAAgAECEwAAgAECEwAAgAECEwAAgAECEwAAgAECEwAAgAECEwAAgAECEwAAgAECEwAAgAECEwAAgAECEwAAgAECEwAAgAECEwAAgAECEwAAgAECEwAAgAECEwAAgAECEwAAgAECEwAAgAECEwAAgAECEwAAgAECEwAAgAECEwAAgAECEwAAgAECEwAAgAECEwAAgAECEwAAgAECEwAAgAECEwAAgAECEwAAgAECEwAAgAECEwAAgAECEwAAgAECEwAAgIGgB6aCggJlZ2crLS1NvXv3VmZmplavXi2n0+keM2PGDCUkJHj9+8c//uE1X15entLT05WUlKRhw4Zp69atXmNOnDihWbNmKSUlRX369NGECRO0f//+gD5PAADQdIUFu4CXXnpJnTp10uOPP6527dpp69ateuqpp7R37179+te/do+74oor9Nxzz3ncNy4uzuPrvLw85eTkaOrUqUpMTFR+fr7Gjx+v/Px8JSQkuMdNmzZN27dv15NPPqnIyEgtWrRIY8aM0VtvvaXw8PDAPmEAANDkBD0wLV++XDExMe6vU1NTderUKa1atUpTp06V1WqVJIWHh6t37961zlNRUaFly5Zp1KhRGjdunCSpX79+yszM1PLly5WTkyNJ2rZtmzZt2qTc3FylpaVJkuLj4zVo0CCtW7dOI0aMCNAzBQAATVXQd8mdH5aq9ejRQ+Xl5SotLfV5nqKiIpWVlSkjI8O9zGKxaPDgwSosLJTL5ZIkFRYWymazaeDAge5xnTp1UnJysgoLCxv+RAAAwCUr6IGpJp988omio6PVrl0797I9e/bouuuuU8+ePXXPPffo/fff97hPSUmJJKlbt24ey+Pi4nTy5EkdPHjQPa5r164ymUwe47p37+6eAwAA4HxB3yV3oS+++EJr167VpEmTZLFYJJ3d4pSUlKTu3burrKxMa9as0aRJk7Rw4ULdfvvtkiS73S6r1ep1DFKbNm0kSaWlperYsaPsdruioqK8Htdms+n48eONrj8szL8Z1GIxe9yidvSqfuiX7+iV75pbr6qfp8lk8vpD3Ej18LO33vetnq+59LIuofB9FVKB6dChQ3rkkUeUlJSk8ePHu5ePHj3aY1x6erp+8YtfaNGiRe7AJKnGb9bqXXHnr6vtm7q+3+wXMptNats2olFz1MZmaxWQeS9F9Kp+6Jfv6JXvmluvwixmtQizNPC+Nd8v7Fw4aG69rEswexEygamsrEzjx49XeHi4li1bphYtWtQ61mw269Zbb9Wzzz6rM2fOKDw8XDabTeXl5SovL1fLli3dY+12u6QftzTZbDYdOHDAa0673S6bzdao5+B0umS3n2rUHBeyWMyy2VrJbj8th8NpfIdmjF7VD/3yHb3yXXPrVfXzrXI4VVnlqNd9TaazYanK4dC5v+09VJ3rX3PpZV0C+X1ls7XyactVSASm8vJyTZw4UYcPH9Ybb7yhtm3bGt7HdcF3V/UpBkpKSpSYmOheXlJSooiICHXo0ME97qOPPpLL5fLYolRcXOx1moKGqKoKzDe1w+EM2NyXGnpVP/TLd/TKd82tVy6Xy+t9yZjp3H2939Oq55SaXy/rEsxeBH3HaFVVlaZMmaJvvvlGL774omJjYw3v43Q69e677+qqq65yH7OUnJysqKgobdiwwT3O4XCooKBAaWlp7nCUlpYmu92uzZs3u8cdOHBARUVF7tMMAAAAnC/oW5jmzJmjDz74QNOnT9eZM2f02Wefudd1795dx48f14wZM5SRkaEuXbro+PHjWrNmjb788kstXrzYPdZqtWrixInKyclRTEyM+8SVe/fu1YIFC9zjevXqpRtvvFFPPPGEZsyYocjISC1cuFCxsbEaOnToxXzqAACgiQh6YPrwww8lSc8++6zXuldffVUJCQmKjIzUkiVLdPToUbVo0UI9e/bUihUrNGDAAI/xY8eOlcvl0sqVK3X48GHFx8crNzfX4yzfkjR//nw988wzmj17tiorK5WSkqLFixdzlm8AAFAjk6v+O11RC4fDqaNHT/p1zrAws9q2jdCxYyfZh22AXtUP/fIdvfJdc+tV9fNdO3a9jnx3pF73NZlMahFmUWWVo8ZjmNrFt9M9fxrSbHpZl0B+X8XERPh00HfQj2ECAAAIdQQmAAAAAwQmAAAAAwQmAAAAAwQmAAAAAwQmAAAAAwQmAAAAAwQmAAAAAwQmAAAAAwQmAAAAAwQmAAAAAwQmAAAAAwQmAAAAAwQmAAAAAwQmAAAAAwQmAAAAAwQmAAAAAwQmAAAAAwQmAAAAAwQmAAAAAwQmAAAAAwQmAAAAAwQmAAAAAwQmAAAAAwQmAAAAAwQmAAAAAwQmAAAAAwQmAAAAAwQmAAAAAwQmAAAAAwQmAAAAA2HBLgAAAFw6zGaTzGaTX+e0WIK/fYfABAAA/MJsNqltdGuZAxBwnA6nTCb/BrH6IDABAAC/MJtNMlvM2jh7k0p3l/pt3rY/idZNs270+5ar+iAwAQAAvyrdXaoj3x3x23zB3LJULfg7BQEAAEIcgQkAAMAAgQkAAMAAgQkAAMAAgQkAAMAAgQkAAMAAgQkAAMAAgQkAAMAAgQkAAMAAgQkAAMAAgQkAAMBA0ANTQUGBsrOzlZaWpt69eyszM1OrV6+W0+n0GFdYWKghQ4YoKSlJgwYN0qpVq2qcLy8vT+np6UpKStKwYcO0detWrzEnTpzQrFmzlJKSoj59+mjChAnav39/QJ4fAABo+oIemF566SVZrVY9/vjjWr58uW655RY99dRTevbZZ91jPv30U2VnZysxMVErVqzQ0KFDNW/ePOXn53vMlZeXp5ycHN1///3Kzc3VlVdeqfHjx+vbb7/1GDdt2jRt3LhRTz75pHJycvTDDz9ozJgxOnPmzEV5zgAAoGkJC3YBy5cvV0xMjPvr1NRUnTp1SqtWrdLUqVNltVq1ZMkSJSYm6umnn3aPOXDggBYuXKhhw4bJbDaroqJCy5Yt06hRozRu3DhJUr9+/ZSZmanly5crJydHkrRt2zZt2rRJubm5SktLkyTFx8dr0KBBWrdunUaMGHGROwAAAEJd0LcwnR+WqvXo0UPl5eUqLS1VRUWFtmzZojvvvNNjTGZmpg4dOqSvvvpKklRUVKSysjJlZGS4x1gsFg0ePFiFhYVyuVySzu7as9lsGjhwoHtcp06dlJycrMLCwkA8RQAA0MQFPTDV5JNPPlF0dLTatWunPXv2qLKyUt26dfMY0717d0lSSUmJx+2F4+Li4nTy5EkdPHjQPa5r164ymUxe81XPAQAAcL6g75K70BdffKG1a9dq0qRJslgsOn78uCTJZrN5jKv+unq93W6X1WpVeHi4x7g2bdpIkkpLS9WxY0fZ7XZFRUV5Pa7NZnPP1RhhYf7NoBaL2eMWtaNX9UO/fEevfNfcelX9PE0mk9cf4kaqh5+99b5v9XxNqZeN6Uddqqcym01+f5/1VUgFpkOHDumRRx5RUlKSxo8f77Gutsafv7ymMdW74ozG1bXcV2azSW3bRjRqjtrYbK0CMu+liF7VD/3yHb3yXXPrVZjFrBZhlgbet+b7hZ0LH02xl43pR00s5rO9iIwMNxgZOCETmMrKyjR+/HiFh4dr2bJlatGihaQftxBduPXHbrdL+nFLk81mU3l5ucrLy9WyZUuvcdXz2Gw2HThwwOvx7Xa711as+nI6XbLbTzVqjgtZLGbZbK1kt5+Ww+E0vkMzRq/qh375jl75rrn1qvr5Vjmcqqxy1Ou+JtPZsFTlcOjc3/Yeqs71ryn1sjH9qIvj3KmGTpw4o8pK/80rnQ2kvmzFC4nAVF5erokTJ+rw4cN644031LZtW/e6Ll26qEWLFtq5c6fHgdrFxcWSzh6jdP5tSUmJEhMT3eNKSkoUERGhDh06uMd99NFHcrlcHluUiouL3XM0RlVVYL6pHQ5nwOa+1NCr+qFfvqNXvmtuvXK5XO49Gr4znbuvarxv9bKm2MuG9aOu+c7eOp2uoPUi6DtGq6qqNGXKFH3zzTd68cUXFRsb67HearUqNTVVBQUFHsvffvtttW/f3h2OkpOTFRUVpQ0bNrjHOBwOFRQUKC0tzR2O0tLSZLfbtXnzZve4AwcOqKioyH2aAQAALmXVxwL5+19TOt6qvoK+hWnOnDn64IMPNH36dJ05c0afffaZe1337t0VGRmpSZMmaeTIkZo5c6YyMzNVVFSk/Px8zZkzR+Zz+zWtVqsmTpyonJwcxcTEKDExUfn5+dq7d68WLFjgnrNXr1668cYb9cQTT2jGjBmKjIzUwoULFRsbq6FDh17spw8AwEVlNpvUNrq1zAEMN6YaDmJv6oIemD788ENJ8jizd7VXX33VffmSpUuXasGCBVq/fr06duyomTNnavjw4R7jx44dK5fLpZUrV+rw4cOKj49Xbm6uEhISPMbNnz9fzzzzjGbPnq3KykqlpKRo8eLFXp+wAwDgUmM2m2S2mLVx9iaV7i7169ydUzqr30PX1fShvyYv6IFp48aNPo1LS0sz3GVmMpmUlZWlrKysOsdFRkZq7ty5mjt3rs91AgBwKSndXaoj3x3x65zRXdr4db5QcunubAQAAPATAhMAAIABAhMAAIABAhMAAIABAhMAAIABAhMAAIABAhMAAIABAhMAAIABAhMAAIABAhMAAIABAhMAAIABAhMAAIABAhMAAIABAhMAAIABAhMAAIABAhMAAIABAhMAAIABAhMAAIABAhMAAIABAhMAAIABAhMAAIABAhMAAICBBgWmHj166PPPP69x3ZdffqkePXo0qigAAIBQ0qDA5HK5al3ndDplMpkaXBAAAECo8fsuue3btysqKsrf0wIAAARNmK8DX3nlFb366quSJJPJpEmTJslqtXqMKS8v15EjR3Tbbbf5t0oAAIAg8jkwtWvXTldddZUkaf/+/briiitks9k8xlitVsXHx2vUqFH+rRIAACCIfA5MGRkZysjIkCQ98MAD+t3vfqe4uLiAFQYAABAqfA5M51u5cqW/6wAAAAhZDQpM0tlPyn3xxRfav3+/ysvLvdYPGTKkMXUBAACEjAYFpl27dmnixInavXt3jacYMJlMBCYAAHDJaFBgmjNnjioqKpSTk6OEhASvT8sBAABcShoUmD7//HPNnTtXt99+u7/rAQAACDkNOnFl69atFRkZ6e9aAAAAQlKDAtM999yjt99+29+1AAAAhKQG7ZKLj4/XX//6V02YMEHp6emKjo72GnPrrbc2tjYAAICQ0KDANG3aNEnSvn37tGnTJq/1JpNJX3/9daMKAwAACBUNCkzV15QDAABoDhoUmPr16+fvOgAAAEJWgw76BgAAaE4atIVp1KhRda43mUx65ZVXGlQQAABAqGlQYKrpciilpaXatWuXYmJi9JOf/KSxdQEAAISMBgWmlStX1rh8165dys7O1uTJkxtVFAAAQCjx6zFMXbt21bhx4/Tss8/6c1oAQAgxm00KCzPX+M9iOfu2YrHUvN7on9lsCvKzA2rWoC1MdYmNjdWOHTv8PS0AIASYzSa1jW4ts6Xuv7dttlYNmt/pcOpY6Sk5nd6HfgDB5PfA9N577+nyyy/397QAgBBgNptktpi1cfYmle4u9VpvMpkUZjGryuGs8XjXukRfGa30/7xRZrOJwISQ06DA9Jvf/MZrWUVFhb777jsVFxdr+vTpPs+1e/du5eXladu2bdqxY4e6devmdZ26GTNmaN26dV73XbFihQYOHOixLC8vT6tWrdKhQ4cUHx+vxx9/XCkpKR5jTpw4oT/+8Y969913VVFRoZSUFD355JOKjY31uW4AaM5Kd5fqyHdHvJabTCa1CLOosspR78AEhLIGBaatW7d6LWvZsqViY2P1q1/9SpmZmT7PtWPHDhUWFqpXr15yOmv/i+SKK67Qc88957EsLi7O4+u8vDzl5ORo6tSpSkxMVH5+vsaPH6/8/HwlJCS4x02bNk3bt2/Xk08+qcjISC1atEhjxozRW2+9pfDwcJ9rBwAAzUODAtPGjRv9VkB6erpuueUWSWe3JH355Zc1jgsPD1fv3r1rnaeiokLLli3TqFGjNG7cOElnz0iemZmp5cuXKycnR5K0bds2bdq0Sbm5uUpLS5N09mLCgwYN0rp16zRixAi/PTcAAHBpCPqZvs1m/5RQVFSksrIyZWRkuJdZLBYNHjxYhYWF7i1XhYWFstlsHrvyOnXqpOTkZBUWFvqlFgAAcGlp8EHfpaWlevnll7VlyxYdO3ZMbdu21c9+9jONHj1abdq08WeNkqQ9e/bouuuu05kzZxQfH6/s7Gz3lilJKikpkSR169bN435xcXE6efKkDh48qI4dO6qkpERdu3aVyeT50dXu3bvrww8/9HvdAACg6WtQYDp48KBGjBihf//734qLi1OnTp30ww8/aOnSpVq/fr3WrFmjDh06+K3IHj16KCkpSd27d1dZWZnWrFmjSZMmaeHChbr99tslSXa7XVar1esYpOrwVlpaqo4dO8putysqKsrrMWw2m44fP97oWsPC/LvR7vxzmqBu9Kp+6Jfv6NWPqntgMpm8/vA8u/z82/qdU6l6vqbUZ6N+1MWoV4HqR2NqNnRuPpNJfp27eqrqc4AFQ4MC04IFC3TmzBm9+eab+ulPf+pe/vnnn2vixInKycnRH/7wB78VOXr0aI+v09PT9Ytf/EKLFi1yByap5henelfc+etqexEb++KazSa1bRvRqDlq09BzmjRH9Kp+6Jfv6NWPwixmtQiz1LG+9nV1zSk1zT4b9aPu+9Z8v0D3ozE11zWnJFnM/p3bcu7wncjI4H0wq0GBafPmzfqP//gPj7AkST/96U/1yCOPaOHChX4prjZms1m33nqrnn32WZ05c0bh4eGy2WwqLy9XeXm5WrZs6R5rt9sl/bilyWaz6cCBA15z2u122Wy2RtXldLpkt59q1BwXsljMstlayW4/LYfD6de5LzX0qn7ol+/o1Y+qe1HlcKqyyuG13mQ6GwCqHA7V96wCVed625T6bNSPuhj1KlD9aEzNRqprdjj9O7fDeXbeEyfOqLLSvzXbbK182orXoMBUVlZW6zmLOnfurLKysoZMWy8Xnn6g+hQDJSUlSkxMdC8vKSlRRESEexdhXFycPvroI7lcLo8tSsXFxV6nKWiIqqrA/JA7HM6AzX2poVf1Q798R69+5HK5ajkNjOnc+pov1G40p9Q0+1x7P+pSd68C3Y+G1Ww4qfvGn3NXT+V0uoL2vdGgHYGdO3fWpk2balz3j3/8Q507d25MTYacTqfeffddXXXVVe5jlpKTkxUVFaUNGza4xzkcDhUUFCgtLc0djtLS0mS327V582b3uAMHDqioqMh9mgEAAIDzNWgL0z333KP58+fL5XJpyJAhat++vQ4dOqS33npLr732mqZNm+bzXKdPn3Z/nH///v06ceKE3nnnHUlnz6N0+vRpzZgxQxkZGerSpYuOHz+uNWvW6Msvv9TixYvd81itVvfxUzExMe4TV+7du1cLFixwj+vVq5duvPFGPfHEE5oxY4YiIyO1cOFCxcbGaujQoQ1pBwAAuMQ1KDBlZWVp7969eu2117Rq1Sr3cpfLpXvvvdd94khfHDlyRFOmTPFYVv31q6++qoSEBEVGRmrJkiU6evSoWrRooZ49e2rFihUaMGCAx/3Gjh0rl8ullStX6vDhw4qPj1dubq7HWb4laf78+XrmmWc0e/ZsVVZWKiUlRYsXL+Ys3wAAoEYNCkwmk0lz5szRgw8+qK1bt6q0tFTR0dFKTU1V165d6zVX586d9e2339Y5ZtmyZT7XlZWVpaysrDrHRUZGau7cuZo7d67PdQIAgObL52OYjh8/rocfflgffPCBe1m3bt00YsQITZw4USNGjND333+vhx9+WMeOHQtIsQAAAMHgc2DKz8/XN99847Ub7HwDBgzQd99957GbDgAAoKnzOTBt2LBBw4cPV1hY7XvxwsLCNHz4cL9enBcAACDYfA5Mu3btUlJSkuG4a665Rt9//31jagIAAAgpPgcmh8NR59alamFhYaqqqmpUUQAAAKHE58DUvn17FRcXG47bsWOHLrvsskYVBQAAEEp8Dkz9+vXT6tWrVVlZWeuYyspKrVmzRikpKX4pDgAAIBT4HJhGjx6tXbt2afLkyTp48KDX+oMHD2rSpEnatWuXHnzwQX/WCAAAEFQ+n7jy6quv1qxZszR79mzdfPPN6tmzp/sCvPv379eXX34pl8ul3/3ud15n1gYAAGjK6nWm73vvvVdXXXWVXnjhBW3dulWfffaZJKlVq1YaMGCAHnroIfXu3TsAZQIAAARPvS+N0qdPHy1fvlxOp9N9Ru+2bdvKbPZ57x4AAECT0qBryUmS2WxWu3bt/FkLAABASGKzEAAAgAECEwAAgAECEwAAgAECEwAAgAECEwAAgIEGf0oOAJobi8X/f2M6nS45nS6/zwvAvwhMAGDAZDLJ6XDKZmvl97mdDqeOlZ4iNAEhjsAEAAbMZpPMFrM+mLNJx74v9du80VdGK/0/b5TZbCIwASGOwAQAPirdfVxHvjsS7DIABAEHfQMAABggMAEAABggMAEAABggMAEAABggMAEAABjgU3IAgEue2WyS2Wzy+7yBOJkpQhOBCQBwSTObTWob3VrmAIYbk/wfxhBaCEwAgEta9YlHN87epNLdpX6du3NKZ/V76DqRly59BCYAQLNQurvU7yceje7Sxq/zIXQRmAAgyAJ1HAwX9gX8h8AEAEHSKqZVwC7qK3FhX8CfCEwAECQtI60BuaivxIV9AX8jMAFAkHFRXyD0cQIJAAAAAwQmAAAAAwQmAAAAAwQmAAAAAwQmAAAAAwQmAAAAAwQmAAAAAwQmAAAAAwQmAAAAAwQmAAAAAwQmAAAAAwQmAAAAA0EPTLt379asWbN09913KzExURkZGTWOKyws1JAhQ5SUlKRBgwZp1apVNY7Ly8tTenq6kpKSNGzYMG3dutVrzIkTJzRr1iylpKSoT58+mjBhgvbv3+/X5wUAAC4dQQ9MO3bsUGFhoa688krFxcXVOObTTz9Vdna2EhMTtWLFCg0dOlTz5s1Tfn6+x7i8vDzl5OTo/vvvV25urq688kqNHz9e3377rce4adOmaePGjXryySeVk5OjH374QWPGjNGZM2cC9jwBAEDTFRbsAtLT03XLLbdIkmbMmKEvv/zSa8ySJUuUmJiop59+WpKUmpqqAwcOaOHChRo2bJjMZrMqKiq0bNkyjRo1SuPGjZMk9evXT5mZmVq+fLlycnIkSdu2bdOmTZuUm5urtLQ0SVJ8fLwGDRqkdevWacSIERfjaQMAgCYk6FuYzOa6S6ioqNCWLVt05513eizPzMzUoUOH9NVXX0mSioqKVFZW5rFLz2KxaPDgwSosLJTL5ZJ0dteezWbTwIED3eM6deqk5ORkFRYW+utpAQCAS0jQA5ORPXv2qLKyUt26dfNY3r17d0lSSUmJx+2F4+Li4nTy5EkdPHjQPa5r164ymUxe81XPAQAAcL6g75Izcvz4cUmSzWbzWF79dfV6u90uq9Wq8PBwj3Ft2rSRJJWWlqpjx46y2+2KioryehybzeaeqzHCwvybQS0Ws8ctakev6od++c5sPvsHlskkrz+2GsUUoHn143z+fn2r5zOZTDXWXL3o7G39nlOwam6URryGRr1qbv3wYVqZzSa/v8/6KuQDU7XaGn/+8prGVO+KMxpX13Jfmc0mtW0b0ag5amOztQrIvJcielU/9Mt3FrNZLcIsfpsvrDq0+nne8+cO1OsbZqm75jBL/Z9PsGtu6JxS417D2nrVXPtRE8u5w3ciI8MNRgZOyAem6i1EF279sdvtkn7c0mSz2VReXq7y8nK1bNnSa1z1PDabTQcOHPB6HLvd7rUVq76cTpfs9lONmuNCFotZNlsr2e2n5XA4/Tr3pYZe1Q/98l2LFhZFRobL4XSqssrht3mrzvXd3/OeP7e/X9/q75sqR801m0xnA0CVw6Fzf6/6LFg1N0ZjXkOjXjW3ftTF4Tw774kTZ1RZ6d+abbZWPm3FC/nA1KVLF7Vo0UI7d+70OFC7uLhYktynIqi+LSkpUWJiontcSUmJIiIi1KFDB/e4jz76SC6Xy2OLUnFxca2nNaiPqqrAvPE4HM6AzX2poVf1Q7+MVf8ydbl+3GrtF+fm8vu8+nG+QL2+LperlppN59bX/zkFr+ZGTeq+qf/cdfeq+fXDcFo5na6g/b4K+YMXrFarUlNTVVBQ4LH87bffVvv27d3hKDk5WVFRUdqwYYN7jMPhUEFBgdLS0tzhKC0tTXa7XZs3b3aPO3DggIqKitynGQAAADhf0LcwnT592v1x/v379+vEiRN65513JJ09j1JMTIwmTZqkkSNHaubMmcrMzFRRUZHy8/M1Z84c92kJrFarJk6cqJycHMXExCgxMVH5+fnau3evFixY4H68Xr166cYbb9QTTzyhGTNmKDIyUgsXLlRsbKyGDh168RsAAABCXtAD05EjRzRlyhSPZdVfv/rqq+7LlyxdulQLFizQ+vXr1bFjR82cOVPDhw/3uN/YsWPlcrm0cuVKHT58WPHx8crNzVVCQoLHuPnz5+uZZ57R7NmzVVlZqZSUFC1evNjrE3YAAABSCASmzp07e126pCZpaWmGu8xMJpOysrKUlZVV57jIyEjNnTtXc+fOrVetAACgeQr5Y5gAAACCjcAEAABggMAEAABggMAEAABggMAEAABggMAEAABggMAEAABggMAEAABggMAEAABggMAEAABggMAEAABggMAEAABggMAEAABggMAEAABgICzYBQBoHLPZJLPZVO/7WSxmj9sLOZ0uOZ2uRtUGAJcKAhPQhJnNJrWNbi1zLaHHFzZbqxqXOx1OHSs9RWgCABGYgCbNbDbJbDFr4+xNKt1dWq/7mkwmhVnMqnI45XJ5hqLoK6OV/p83ymw2EZgAQAQm4JJQurtUR747Uq/7mEwmtQizqLLK4RWYAACeOOgbAADAAIEJAADAAIEJAADAAIEJAADAAIEJAADAAIEJAADAAIEJAADAAIEJAADAAIEJAADAAGf6BnDRNfSCwUa4YDCAQCEwocmp7c3Wcu4CtJYGXog2kG+2gQoIDX2uweSPCwbXhgsGAwgUAhOaFF/ebG22Vg2aO1BvtoEMCNVM8n8YC5TGXDC4LlwwGEAgEZjQpNT1ZmsymRRmMavK4az3xWQD+WYbqIAgSZ1TOqvfQ9epCeUlt4ZcMBgAgoXAhCappjdbk8mkFmEWVVY56h2YLoZABIToLm38Oh8AoGZN7wAIAACAi4zABAAAYIDABAAAYIDABAAAYIDABAAAYIDABAAAYIDABAAAYIDzMDURgboEBtfeAgDAGIEpxJlMJjkdzgZf7sMI194CAMAYgSnEVV9W44M5m3Ts+1K/zs21twAA8A2BqYko3X2c624BABAkHPQNAABggMAEAABggMAEAABggMAEAABgoEkEprVr1yohIcHr33PPPecxrrCwUEOGDFFSUpIGDRqkVatW1ThfXl6e0tPTlZSUpGHDhmnr1q0X42kAAIAmqkl9Su7FF19UVFSU++sOHTq4///pp58qOztbd999t2bMmKGioiLNmzdPVqtVw4cPd4/Ly8tTTk6Opk6dqsTEROXn52v8+PHKz89XQkLCRX0+AACgaWhSgemaa65RTExMjeuWLFmixMREPf3005Kk1NRUHThwQAsXLtSwYcNkNptVUVGhZcuWadSoURo3bpwkqV+/fsrMzNTy5cuVk5Nz0Z4LAABoOprELjkjFRUV2rJli+68806P5ZmZmTp06JC++uorSVJRUZHKysqUkZHhHmOxWDR48GAVFhbK5eLkjQAAwFuT2sKUkZGhY8eOqVOnTrr33nuVlZUli8WiPXv2qLKyUt26dfMY3717d0lSSUmJevbsqZKSEknyGhcXF6eTJ0/q4MGD6tixY6NqDAvzbwY1m02SJJPp7GVS/Kl6vkBdpy4Qqms1mUxe/aj+8uxt/XoVyF7UVXOjmRr+/VFXv5piPwJZc8B+Dhvx+hlPHZh+GL1+ofhz2BR/Bs8ub1798GFamc0mv7/P+qpJBKb27dvr4YcfVq9evWQymbRx40b913/9lw4ePKhZs2bp+PHjkiSbzeZxv+qvq9fb7XZZrVaFh4d7jGvTpo0kqbS0tFGByWw2qW3biAbfvy4Ws1ktwix+nTPs3A9NoK5TF0hhltr7EWapf58uRi/qqrkxc0qN+/6oqV9NsR8Xo2Z//xz64/UzmjtQ/TB6/ULx57Ap/QyeP3dz60dNLOaz80ZGhhuMDJwmEZgGDBigAQMGuL++4YYb1LJlS73yyiuaMGGCe3ltafb85TWNqd4V19g07HS6ZLefatQcF2rRwqLIyHA5nE5VVjn8OneVwylJsttPy3Hu/6HOYjHLZmulKod3P0yms794qhwO1XfvaiB7UVfNjVVdd0O+P+rqV1PsRyBrDtTPYWNeP1/n9nc/jF6/UPw5bIo/g+fP3Vz6UReH8+y8J06cUWWlf2u22Vr5tBWvSQSmmtxxxx3605/+pK+//lqxsbGSftySVM1ut0v6cUuTzWZTeXm5ysvL1bJlS69x1VuaGqOqyv9vLpLkcsnvx1hVz+dwOP1ed6C5XK4a+mE6t67+vboYvai55kZP6r6p/9y196sp9iOQNQfs57BRr5/R1IF9DWt//UL357Ap/QyeXd7c+mE4rZxOV9Der5rOwSt16NKli1q0aKGdO3d6LC8uLpZ09hil82+rj2WqVlJSooiICI/TFDQnFotZYWH+/Vd9zAcAAJeCJruFacOGDbJYLEpMTJTValVqaqoKCgr04IMPuse8/fbbat++vRITEyVJycnJioqK0oYNG9zLHA6HCgoKlJaW5v+D30Jcq5hWcjqcAdk/7nQ4daz0lJxOPnkIAGj6mkRgGjdunFJTUxUfHy9J+vvf/64333xTo0aNUvv27SVJkyZN0siRIzVz5kxlZmaqqKhI+fn5mjNnjsznDhazWq2aOHGicnJyFBMT4z5x5d69e7VgwYKgPb9gaRlpldli1gdzNunY96V+mzf6ymil/+eNMptNBCYAwCWhSQSmrl276s9//rP+7//+T06nUz/5yU/029/+Vg888IB7TJ8+fbR06VItWLBA69evV8eOHTVz5kyPs3xL0tixY+VyubRy5UodPnxY8fHxys3NbdZn+S7dfVxHvjsS7DIAAAhZTSIwzZw506dxaWlpSktLq3OMyWRSVlaWsrKy/FEaAABoBi6Jg74BAAACicAEAABggMAEAABggMAEAABggMAEAABggMAEAABggMAEAABggMAEAABggMAEAABggMAEAABggMAEAABggMAEAABggMAEAABggMAEAABggMAEAABggMAEAABggMAEAABggMAEAABggMAEAABggMAEAABggMAEAABggMAEAABggMAEAABggMAEAABggMAEAABggMAEAABggMAEAABggMAEAABggMAEAABggMAEAABggMAEAABggMAEAABggMAEAABggMAEAABggMAEAABggMAEAABggMAEAABggMAEAABggMAEAABggMAEAABggMAEAABggMAEAABggMAEAABggMAEAABggMAEAABggMAEAABgoNkGpl27dmncuHHq3bu3+vfvr3nz5unMmTPBLgsAAISgsGAXEAx2u12jR49Wp06dtGjRIh09elS///3vVVpaqueeey7Y5QEAgBDTLAPT66+/LrvdrvXr1ysmJkaSZLFY9Nhjj2nixImKi4sLcoUAACCUNMtdcv/4xz/Uv39/d1iSpNtuu01Wq1WFhYVBrAwAAIQik8vlcgW7iIutf//+GjZsmB577DGP5Xfeead69+6tp556qkHzulwuOZ3+bafJJJnNZp0+dlrOKqdf57a0DFO4raXf5zaHmdWqbSs5nf6t1z1/APrRFGuWeA095gxozSaZzSa/1xyo108KbD8C9f3cFGvmNfR0MX4n+Tu1mM0mmUwmw3HNcpec3W6XzWbzWm6z2XT8+PEGz2symWSxGDe9IVq1bRWQeQM5t9kcuA2Y1Hxx5m6K/WiKNQfyeyNQ/aDmizc3/fhRIH++DR87aI8cglwul08pEwAANC/NMjDZbDbZ7Xav5WVlZTVueQIAAM1bswxMcXFxKikp8VhWUVGhPXv28Ak5AADgpVkGpoEDB2rLli06duyYe9nf/vY3VVRUKC0tLYiVAQCAUNQsPyVnt9uVkZGh2NhYZWdn68iRI/rDH/6gG264gRNXAgAAL80yMElnL40yb948ffLJJwoPD1dGRoYee+wxhYeHB7s0AAAQYpptYAIAAPBVszyGCQAAoD4ITAAAAAYITAAAAAYITAAAAAYITAAAAAYITAAAAAYITCFq165dGjdunHr37q3+/ftr3rx5OnPmTLDLCkkFBQXKzs5WWlqaevfurczMTK1evVpOpzPYpYW0kydPauDAgUpISNAXX3wR7HJCVn5+vu666y4lJSWpf//+mjBhQrBLCknvv/++hg8fruTkZP3sZz/T5MmTtXPnzmCXFXS7d+/WrFmzdPfddysxMVEZGRk1jissLNSQIUOUlJSkQYMGadWqVRe50uAz6pXD4dCKFSs0cuRIpaamqm/fvrr//vv1z3/+86LUF3ZRHgX1YrfbNXr0aHXq1EmLFi3S0aNH9fvf/16lpaWcibwGL730kjp16qTHH39c7dq109atW/XUU09p7969+vWvfx3s8kLW0qVL5XA4gl1GSFu8eLFefvllTZgwQb169dLx48e1efPmYJcVcj766CNNnjxZd911l/7jP/5Ddrtdzz//vMaMGaO//vWvioyMDHaJQbNjxw4VFhaqV69ecjqdqunUh59++qmys7N19913a8aMGSoqKtK8efNktVo1fPjwIFQdHEa9OnPmjF544QUNGTJE48aNU1hYmNatW6cxY8Zo2bJluummmwJboAsh54UXXnD16tXLdeTIEfeyt956yxUfH+8qLi4OYmWh6fw+VXv66addSUlJrvLy8iBUFPqKi4tdvXv3dq1Zs8YVHx/v+vzzz4NdUsgpLi529ejRw7V58+ZglxLyfvvb37puuukml9PpdC/btm2bKz4+3rVp06YgVhZ8DofD/f9f//rXrjvvvNNrzLhx41w///nPPZbNnDnTdf3113vc/1Jn1KuqqipXaWmpxzKn0+kaOnSoa+TIkQGvj11yIegf//iH+vfvr5iYGPey2267TVarVYWFhUGsLDSd36dqPXr0UHl5uUpLSy9+QU3AU089pV/84hfq2rVrsEsJWWvXrtUVV1yhG264IdilhLyqqipFRETIZDK5l0VFRQWxotBhNtf9NltRUaEtW7bozjvv9FiemZmpQ4cO6auvvgpkeSHFqFcWi0Vt2rTxWGYymXT11Vfrhx9+CGRpkjiGKSSVlJQoLi7OY5nValWXLl1UUlISpKqalk8++UTR0dFq165dsEsJOe+8846++eYbTZo0KdilhLRt27YpPj5eS5YsUf/+/dWzZ0+NHDlSX3/9dbBLCzk///nPtXPnTq1cuVJ2u1379u3TM888o7i4OPXv3z/Y5YW0PXv2qLKyUt26dfNY3r17d0nid74Bp9OpTz/91Os9MxAITCHIbrfLZrN5LbfZbDp+/HgQKmpavvjiC61du1ajR4+WxWIJdjkh5fTp0/rDH/6gRx99tFkfV+KLQ4cO6cMPP9Rf/vIXzZ49W4sXL9bp06c1ZswY2e32YJcXUvr27avnn39eOTk56tu3r26++Wbt3btXf/rTn2S1WoNdXkir/p1+4e/86q/5nV+3lStXateuXRozZkzAH4vA1IS4XC6PTd7wdujQIT3yyCNKSkrS+PHjg11OyFm2bJnatWune+65J9ilhDyXy6VTp05p8eLFuvXWW3XTTTdp2bJlOnnypN54441glxdSioqKNH36dA0bNkwvv/yynn/+eYWHh2v8+PE6ceJEsMtrEmr73c7v/Np9/PHHevbZZzV27Fj17ds34I/Hp+RCkM1mq/Ev2LKysouy2bGpKisr0/jx4xUeHq5ly5apRYsWwS4ppOzfv19/+tOftGTJEveb2KlTp9y3J0+eVERERDBLDClt2rTRZZddpquuusq97PLLL1e3bt1UXFwcxMpCz7x585SamqonnnjCvezaa6/VwIEDlZ+ff1H++m+qqo/JuXBLUvV7QE17GyB98803ys7O1i233KLp06dflMckMIWguLg4r/3WFRUV2rNnj4YNGxakqkJbeXm5Jk6cqMOHD+uNN95Q27Ztg11SyNm3b58qKyv1q1/9ymvdqFGj1KtXL7355ptBqCw0xcXF6d///rfXcpfLZXhwanNTUlKi9PR0j2UxMTG6/PLLtWfPniBV1TR06dJFLVq00M6dOzVw4ED38upQzh/J3vbs2aOsrCwlJibqj3/840XbCkdgCkEDBw7UsmXLdOzYMfcb/9/+9jdVVFQoLS0tyNWFnqqqKk2ZMkXffPONXnvtNcXGxga7pJDUo0cPvfrqqx7Lvv76a/3+97/X7NmzlZSUFKTKQtONN96odevW6bvvvlN8fLwk6eDBg9q5cye7NC/QqVMnbd++3WPZoUOH9MMPP/DzaMBqtSo1NVUFBQV68MEH3cvffvtttW/fXomJicErLgQdOnRIY8eO1WWXXaalS5de1GPkCEwh6Be/+IVee+01ZWdnKzs7W0eOHNEf/vAHZWZm8tdGDebMmaMPPvhA06dP15kzZ/TZZ5+513Xv3p2Dm8+x2WxKSUmpcd0111yja6655iJXFNoGDRqka665Rg8//LCmTJkiq9WqJUuWKCYmRvfee2+wywsp999/v+bOnas5c+bo5ptvlt1u1wsvvKDWrVvrrrvuCnZ5QXX69Gn36WD279+vEydO6J133pEk9evXTzExMZo0aZJGjhypmTNnKjMzU0VFRcrPz9ecOXOa1dZMo161bt1aWVlZOnLkiGbMmOG1a7x3794Brc/kctVw2lEE3a5duzRv3jx98sknCg8PV0ZGhh577DGFh4cHu7SQk56erv3799e47tVXX601JEDaunWrRo0apT//+c9sYarBkSNH9PTTT6uwsFBVVVXq27evfvOb33h9BLy5c7lcevPNN7V69Wrt2bNHrVu3VlJSkqZOnaqEhIRglxdU+/bt080331zjuvN/PxUWFmrBggUqKSlRx44dNWbMGN1///0Xs9SgM+pVbGxsresl6dtvvw1UaZIITAAAAIaaz7Y+AACABiIwAQAAGCAwAQAAGCAwAQAAGCAwAQAAGCAwAQAAGCAwAQAAGCAwAQAAGCAwAc3UO++8o4SEBG3YsMFr3V133aWEhARt3rzZa90tt9yioUOH+qWGhIQEzZkzx+fxkydP1sSJE91fb968WWPHjtUNN9ygnj176oYbbtADDzyg3Nxcj/stX75c77//vl9qvlB6erpmzJgRkLnr6k/167d169aAPDYATwQmoJnq16+fTCaTtmzZ4rG8tLRU3333nVq3bu31Zvx///d/2rt3b1AuN3Pq1Clt3rxZt912myRpzZo1ysrKUmRkpGbNmqW8vDw99thj6tatm/v6U9VeeOGFgAUmAM0DF98FmqmYmBhdddVV+vjjjz2W/+tf/1JYWJiGDRvmFZiqw1VjA9OZM2fqfV3EwsJCORwO3XTTTZKk3Nxc9e3bV4sWLfIYN2TIEDmdzkbVh9q5XC6Vl5dzXUs0O2xhApqxlJQU7dq1Sz/88IN72datW9WzZ0+lpaVp+/btOnHihHvdxx9/LIvFouuuu07l5eWaP3++0tPT1bNnTw0YMECzZ8+W3W73eIz09HQ99NBDeu+99zRkyBAlJSXp+eefr7Eel8ulBQsW6JprrtGbb77pse69995TSkqK2rRpI+nslrD27dvXOM/5V3hPSEjQqVOntG7dOiUkJCghIUEPPPCAJGnx4sU1Xhx27dq1SkhI0L59+9zLKisr9cc//lHXX3+9evXqpREjRujzzz/3uN++ffuUmJioF154wWvOf/3rX0pISFBBQUGNNfvL3//+d913333q1auX+vTpozFjxujTTz/1GDNjxgylp6d73bemflTvFlyzZo3uuOMOJSUlad26dZKk1atX66677lKfPn3Up08f3X777VqwYEHgnhwQRGxhApqx1NRUrVy5Uh9//LEyMjIknQ1MN910k5KTk2UymfTJJ58oLS3NvS4xMVGRkZHKysrSli1b9Ktf/UrXXXedvv32Wy1evFifffaZ3njjDVmtVvfjbN++XSUlJZo4caI6d+6sVq1aedVSUVGhGTNmaNOmTVq2bJkGDhzoXldeXq5NmzbpN7/5jXtZ79699d5772nx4sUaNGiQrrrqKlksFq9533jjDY0ePVopKSnKzs6WJEVGRta7V08++aTWr1+vsWPH6vrrr9eOHTs0efJknTx50j2mc+fOSk9P1+uvv66srCyPel577TVdfvnlGjRoUL0e1+Vyqaqqymt5TVvR/vKXv+ixxx7TDTfcoPnz56uiokIvvviiHnjgAb388su67rrr6vXY1d5//3397//+ryZNmqTLLrtM7dq101//+lfNnj1bDzzwgH7961/LbDZr9+7dKi4ubtBjAKGOwAQ0Y3379pXZbHYHpmPHjmnHjh16/PHHFRERocTERG3ZskVpaWk6cOCA9u3bp9tvv10ffvihPvzwQ02fPl1ZWVmSpOuvv14dO3bU1KlTtX79et17773uxzl69Kj++te/qmvXrjXWUVpaquzsbO3bt0+rV6/W1Vdf7bF+8+bNKi8v1y233OJeNnv2bE2aNEnPP/+8nn/+eYWHh6tPnz4aNGiQ7r33XrVo0ULS2WBlNpsVExOj3r17N6hPJSUlWrdunR588EE9/vjj7ufbrl07PfbYYx5jH3jgAY0aNUoffPCBu96DBw/q/fff18SJExUWVr9fu6tXr9bq1asNxzmdTv3xj39UfHy8VqxY4d7KlpaWpkGDBum5557T66+/Xq/Hrnbq1Cn95S9/cW/dk6TXX39dNptNM2fOdC/r379/g+YHmgJ2yQHNWJs2bXT11Ve7j1X617/+JYvFouTkZElnA1X1uurblJQU97FM99xzj8d8d9xxh1q3bq1//vOfHssTEhJqDUv79u3TfffdpxMnTujNN9/0CkvS2d1x1157rWJiYtzLunTpov/+7//Wa6+9pocfflj9+/fXF198oTlz5ui+++5TeXl5Q1pSo+rnnpmZ6bH8jjvu8ApAKSkpuvrqq7Vq1Sr3stdff10mk0n33XdfvR/7jjvu0J///GevfxcGtepdq3fffbfHLsmIiAjdeuut2rZtm06fPl3vx5fObok8PyxJUlJSkux2ux599FG9//77Onr0aIPmBpoKAhPQzKWkpOj777/XwYMHtXXrVl1zzTWKiIiQdPaTdF9//bXKysq0detWhYWF6dprr1VpaanCwsI8AowkmUwmXXbZZSotLfVYXtuxRpL0+eef6/vvv9fgwYPVsWNHr/WVlZX64IMP3J+OO5/ZbFbfvn01efJkLV++XJs3b9bgwYO1fft2/fnPf25AN2pW/XwufB5hYWGKjo72Gv/AAw/on//8p3bu3KnKykrl5+frtttuq7MPtYmJiVFSUpLXvyuuuMJj3LFjx2qsUZIuv/xyOZ1Or+PLfFXTnEOGDNHTTz+tf//733rkkUf0s5/9TMOHD9f//M//NOgxgFBHYAKauepPvH388cf6+OOP1bdvX/e6a6+9VtLZLU9bt25VUlKSIiIiFB0draqqKq+tCi6XS4cPH1bbtm09lptMploff/DgwZoyZYpycnK0dOlSr/UfffSRysrKfDr2p3Xr1nrooYckSTt27DAc37JlS0lnj586X3X4qFYdig4dOuSxvKqqyiscSme3REVHR2v16tV65513dOjQIf3yl780rKcxqnt+YY2S9MMPP8hsNstms0mSrFar13OWvJ93tdpev2HDhun111/X//7v/+qFF16Qy+XSQw89pP379zf0aQAhi8AENHN9+/aVxWLRu+++qx07dqhfv37udVFRUerRo4fWr1+v/fv3u8NV9bEqb731lsdc7777rk6dOlXvY1mys7P129/+VosWLdL8+fM91r333nvq3bu3OnTo4LH8/E/2na+kpETS2a0q1axWq86cOeM1NjY2VpL0zTffeCz/4IMPPL6uft5/+ctfPJYXFBTUeEB2y5Ytdd9992ndunV66aWX1KNHD3f4DJSuXbuqQ4cOevvtt+VyudzLT5065e5h9cH2nTt31pEjR3T48GH3uIqKCn344YcNeuzWrVsrLS1NEyZMUGVlJQd+45LEQd9AMxcZGanExES9//77MpvNXm/sffv21SuvvCLpx+Bw/fXX64YbbtBzzz2nEydOKDk5Wd9++60WLVqkxMRE3X333fWuY/To0WrdurVmzZqlU6dOaebMmXI6nfr73/+uX/3qV17jMzIylJqaqoEDB6pLly4qLy/Xtm3b9NJLL+myyy7Tz3/+c/fY+Ph4ffzxx9q4caPat2+viIgIdevWTWlpaYqOjtYTTzyhKVOmyGKxaN26dTpw4IDHY8XFxemuu+7SK6+8orCwMP3sZz/Tjh07lJeXV+sn7n75y1/qxRdf1Pbt2zVv3rx696O+zGazpk+frscee0wPPfSQ7rvvPlVUVCgvL092u13Tpk1zj73jjju0aNEiTZ06VVlZWSovL9fKlSvlcDh8fryZM2cqPDxcycnJat++vQ4dOqTc3FxFRUUpKSkpEE8RCCoCEwClpKToiy++UI8ePbwCQN++ffXyyy+rRYsW6tOnj6Szu2iWLl2qxYsXa+3atVq+fLmio6N1991369FHH/U4pUB9DB8+XK1bt9bjjz+uU6dO6a677tKxY8dq3B03bdo0ffjhh1q+fLkOHz6sqqoq/b//9/+UkZGhiRMnemxheuKJJzR79mw9+uijOn36tPr166eVK1cqMjJSK1as0NNPP63p06crKipKw4cP14ABAzw+/SVJTz31lC677DKtW7dOK1euVI8ePbR48WI9+uijNT6XDh06KDk5Wd99953XweKBkpmZqVatWik3N1dTp06VxWJRr1699Oqrr7oP5JekK664QkuWLFFOTo4eeeQRtW/fXmPGjNHRo0drPUfWha677jqtXbtWBQUFOn78uNq2batrr71WzzzzjNexbcClwOQ6f9stAISQ3/3ud/r888+1du3aYJdSb0eOHNFNN92kkSNHuk9FAKDpIjABgB9VX28vLy9PW7Zs0bvvvut1/BWApoddcgDgR/n5+VqyZIliY2P13HPP1RiWajpQ/Hxms9njXEoAgo8tTABwEe3bt08333xznWMmT56shx9++CJVBMAXBCYAuIgqKir07bff1jnm8ssvZzceEGIITAAAAAbYSQ4AAGCAwAQAAGCAwAQAAGCAwAQAAGCAwAQAAGCAwAQAAGCAwAQAAGDg/wOQJO6gjLtDwwAAAABJRU5ErkJggg==",
      "text/plain": [
       "<Figure size 640x480 with 1 Axes>"
      ]
     },
     "metadata": {},
     "output_type": "display_data"
    }
   ],
   "source": [
    "sns.histplot(depression['Work/Study_Hours'], color='purple', bins=20)"
   ]
  },
  {
   "cell_type": "markdown",
   "id": "3a7a712f",
   "metadata": {},
   "source": [
    "### Study Satisfaction"
   ]
  },
  {
   "cell_type": "code",
   "execution_count": 206,
   "id": "f48d5e46",
   "metadata": {},
   "outputs": [
    {
     "data": {
      "text/plain": [
       "<Axes: xlabel='Study_Satisfaction', ylabel='Count'>"
      ]
     },
     "execution_count": 206,
     "metadata": {},
     "output_type": "execute_result"
    },
    {
     "data": {
      "image/png": "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",
      "text/plain": [
       "<Figure size 640x480 with 1 Axes>"
      ]
     },
     "metadata": {},
     "output_type": "display_data"
    }
   ],
   "source": [
    "sns.histplot(depression['Study_Satisfaction'], color='orange', bins=20)"
   ]
  },
  {
   "cell_type": "markdown",
   "id": "ffcec143",
   "metadata": {},
   "source": [
    "### Job Satisfaction"
   ]
  },
  {
   "cell_type": "code",
   "execution_count": 207,
   "id": "29b7c9cd",
   "metadata": {},
   "outputs": [
    {
     "data": {
      "text/plain": [
       "Job_Satisfaction\n",
       "0.0    16331\n",
       "2.0        2\n",
       "1.0        1\n",
       "4.0        1\n",
       "Name: count, dtype: int64"
      ]
     },
     "execution_count": 207,
     "metadata": {},
     "output_type": "execute_result"
    }
   ],
   "source": [
    "depression['Job_Satisfaction'].value_counts()"
   ]
  },
  {
   "cell_type": "markdown",
   "id": "5e16c8ff",
   "metadata": {},
   "source": [
    "### Sleep Duration"
   ]
  },
  {
   "cell_type": "code",
   "execution_count": 208,
   "id": "3dba906d",
   "metadata": {},
   "outputs": [
    {
     "data": {
      "text/plain": [
       "Sleep_Duration\n",
       "Less than 5 hours    5361\n",
       "7-8 hours            4371\n",
       "5-6 hours            3516\n",
       "More than 8 hours    3078\n",
       "Others                  9\n",
       "Name: count, dtype: int64"
      ]
     },
     "execution_count": 208,
     "metadata": {},
     "output_type": "execute_result"
    }
   ],
   "source": [
    "depression['Sleep_Duration'].value_counts()"
   ]
  },
  {
   "cell_type": "code",
   "execution_count": 209,
   "id": "57f3bdd9",
   "metadata": {},
   "outputs": [
    {
     "data": {
      "image/png": "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",
      "text/plain": [
       "<Figure size 800x500 with 1 Axes>"
      ]
     },
     "metadata": {},
     "output_type": "display_data"
    }
   ],
   "source": [
    "plt.figure(figsize=(8, 5))\n",
    "sns.histplot(depression['Sleep_Duration'], color='cyan', bins=20)\n",
    "plt.tick_params(axis='x', labelsize=8) "
   ]
  },
  {
   "cell_type": "markdown",
   "id": "f3b7b67b",
   "metadata": {},
   "source": [
    "### Degree"
   ]
  },
  {
   "cell_type": "code",
   "execution_count": 210,
   "id": "1e4d11a6",
   "metadata": {},
   "outputs": [
    {
     "data": {
      "text/plain": [
       "Degree\n",
       "Class 12    4303\n",
       "B.Ed        1021\n",
       "B.Arch       871\n",
       "B.Com        853\n",
       "BCA          818\n",
       "MSc          679\n",
       "B.Tech       655\n",
       "MCA          559\n",
       "BSc          523\n",
       "M.Tech       521\n",
       "BHM          509\n",
       "B.Pharm      428\n",
       "M.Ed         415\n",
       "BBA          407\n",
       "MBBS         404\n",
       "M.Com        390\n",
       "LLB          356\n",
       "BE           334\n",
       "BA           321\n",
       "M.Pharm      314\n",
       "MBA          303\n",
       "MD           298\n",
       "MA           290\n",
       "PhD          286\n",
       "LLM          259\n",
       "MHM           99\n",
       "ME            98\n",
       "Others        21\n",
       "Name: count, dtype: int64"
      ]
     },
     "execution_count": 210,
     "metadata": {},
     "output_type": "execute_result"
    }
   ],
   "source": [
    "depression['Degree'].value_counts()"
   ]
  },
  {
   "cell_type": "code",
   "execution_count": 211,
   "id": "28dc98c7",
   "metadata": {},
   "outputs": [
    {
     "data": {
      "image/png": "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",
      "text/plain": [
       "<Figure size 640x480 with 1 Axes>"
      ]
     },
     "metadata": {},
     "output_type": "display_data"
    }
   ],
   "source": [
    "sns.histplot(y=depression['Degree'], color='purple', bins=20, shrink=0.8)\n",
    "plt.tick_params(axis='y', labelsize=8) "
   ]
  },
  {
   "cell_type": "markdown",
   "id": "6c01f4f3",
   "metadata": {},
   "source": [
    "### Financial Stress"
   ]
  },
  {
   "cell_type": "code",
   "execution_count": 212,
   "id": "3e70cb85",
   "metadata": {},
   "outputs": [
    {
     "data": {
      "text/plain": [
       "<Axes: xlabel='Financial_Stress', ylabel='Count'>"
      ]
     },
     "execution_count": 212,
     "metadata": {},
     "output_type": "execute_result"
    },
    {
     "data": {
      "image/png": "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",
      "text/plain": [
       "<Figure size 640x480 with 1 Axes>"
      ]
     },
     "metadata": {},
     "output_type": "display_data"
    }
   ],
   "source": [
    "sns.histplot(depression['Financial_Stress'], color='brown', bins=20)"
   ]
  },
  {
   "cell_type": "markdown",
   "id": "4732d813",
   "metadata": {},
   "source": [
    "### Suicide Thoughts"
   ]
  },
  {
   "cell_type": "code",
   "execution_count": 213,
   "id": "08f59be5",
   "metadata": {},
   "outputs": [
    {
     "data": {
      "text/plain": [
       "<Axes: xlabel='Have_you_ever_had_suicidal_thoughts_', ylabel='Count'>"
      ]
     },
     "execution_count": 213,
     "metadata": {},
     "output_type": "execute_result"
    },
    {
     "data": {
      "image/png": "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",
      "text/plain": [
       "<Figure size 640x480 with 1 Axes>"
      ]
     },
     "metadata": {},
     "output_type": "display_data"
    }
   ],
   "source": [
    "sns.histplot(depression['Have_you_ever_had_suicidal_thoughts_'], color='red', bins=10)"
   ]
  },
  {
   "cell_type": "markdown",
   "id": "0a889e67",
   "metadata": {},
   "source": [
    "### Family History"
   ]
  },
  {
   "cell_type": "code",
   "execution_count": 214,
   "id": "82a0c892",
   "metadata": {},
   "outputs": [
    {
     "data": {
      "text/plain": [
       "<Axes: xlabel='Family_History_of_Mental_Illness', ylabel='Count'>"
      ]
     },
     "execution_count": 214,
     "metadata": {},
     "output_type": "execute_result"
    },
    {
     "data": {
      "image/png": "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",
      "text/plain": [
       "<Figure size 640x480 with 1 Axes>"
      ]
     },
     "metadata": {},
     "output_type": "display_data"
    }
   ],
   "source": [
    "sns.histplot(depression['Family_History_of_Mental_Illness'], color='pink', bins=20)"
   ]
  },
  {
   "cell_type": "markdown",
   "id": "79e4791a",
   "metadata": {},
   "source": [
    "## Outliers"
   ]
  },
  {
   "cell_type": "markdown",
   "id": "550237a4",
   "metadata": {},
   "source": [
    "### Detect Outliers "
   ]
  },
  {
   "cell_type": "markdown",
   "id": "4e3e7974",
   "metadata": {},
   "source": [
    "#### IQR Method"
   ]
  },
  {
   "cell_type": "code",
   "execution_count": 215,
   "id": "fc0350aa",
   "metadata": {},
   "outputs": [
    {
     "name": "stdout",
     "output_type": "stream",
     "text": [
      "id: 0 outliers\n",
      "Age: 12 outliers\n",
      "Academic_Pressure: 0 outliers\n",
      "Work_Pressure: 3 outliers\n",
      "CGPA: 9 outliers\n",
      "Study_Satisfaction: 0 outliers\n",
      "Job_Satisfaction: 8 outliers\n",
      "Work/Study_Hours: 0 outliers\n",
      "Financial_Stress: 0 outliers\n",
      "Depression: 0 outliers\n"
     ]
    }
   ],
   "source": [
    "outlier_summary = {}\n",
    "\n",
    "for col in numerical_cols:\n",
    "    Q1 = df[col].quantile(0.25)\n",
    "    Q3 = df[col].quantile(0.75)\n",
    "    IQR = Q3 - Q1\n",
    "    lower_bound = Q1 - 1.5 * IQR\n",
    "    upper_bound = Q3 + 1.5 * IQR\n",
    "    outliers = df[(df[col] < lower_bound) | (df[col] > upper_bound)]\n",
    "    outlier_summary[col] = len(outliers)\n",
    "\n",
    "for col, count in outlier_summary.items():\n",
    "    print(f\"{col}: {count} outliers\")\n"
   ]
  },
  {
   "cell_type": "markdown",
   "id": "28154caf",
   "metadata": {},
   "source": [
    "#### Z-Score Method (Alternative)"
   ]
  },
  {
   "cell_type": "code",
   "execution_count": 216,
   "id": "c40d2bc4",
   "metadata": {},
   "outputs": [
    {
     "name": "stdout",
     "output_type": "stream",
     "text": [
      "id                     0\n",
      "Age                   19\n",
      "Academic_Pressure      0\n",
      "Work_Pressure          3\n",
      "CGPA                   9\n",
      "Study_Satisfaction     0\n",
      "Job_Satisfaction       8\n",
      "Work/Study_Hours       0\n",
      "Financial_Stress       0\n",
      "Depression             0\n",
      "dtype: int64\n"
     ]
    }
   ],
   "source": [
    "from scipy.stats import zscore\n",
    "z_scores = df[numerical_cols].apply(zscore)\n",
    "outliers = (abs(z_scores) > 3)\n",
    "print(outliers.sum())\n"
   ]
  },
  {
   "cell_type": "markdown",
   "id": "c82e9eb3",
   "metadata": {},
   "source": [
    "### Disply Outliers"
   ]
  },
  {
   "cell_type": "code",
   "execution_count": 217,
   "id": "268a24ae",
   "metadata": {},
   "outputs": [
    {
     "data": {
      "text/plain": [
       "<Axes: xlabel='Age'>"
      ]
     },
     "execution_count": 217,
     "metadata": {},
     "output_type": "execute_result"
    },
    {
     "data": {
      "image/png": "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",
      "text/plain": [
       "<Figure size 640x480 with 1 Axes>"
      ]
     },
     "metadata": {},
     "output_type": "display_data"
    }
   ],
   "source": [
    "sns.boxplot(x=df['Age'])"
   ]
  },
  {
   "cell_type": "code",
   "execution_count": 218,
   "id": "6e1e4b13",
   "metadata": {},
   "outputs": [
    {
     "data": {
      "text/plain": [
       "<Axes: xlabel='Work_Pressure'>"
      ]
     },
     "execution_count": 218,
     "metadata": {},
     "output_type": "execute_result"
    },
    {
     "data": {
      "image/png": "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",
      "text/plain": [
       "<Figure size 640x480 with 1 Axes>"
      ]
     },
     "metadata": {},
     "output_type": "display_data"
    }
   ],
   "source": [
    "sns.boxplot(x=df['Work_Pressure'])"
   ]
  },
  {
   "cell_type": "code",
   "execution_count": 219,
   "id": "a1f8b038",
   "metadata": {},
   "outputs": [
    {
     "data": {
      "text/plain": [
       "<Axes: xlabel='CGPA'>"
      ]
     },
     "execution_count": 219,
     "metadata": {},
     "output_type": "execute_result"
    },
    {
     "data": {
      "image/png": "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",
      "text/plain": [
       "<Figure size 640x480 with 1 Axes>"
      ]
     },
     "metadata": {},
     "output_type": "display_data"
    }
   ],
   "source": [
    "sns.boxplot(x=df['CGPA'])"
   ]
  },
  {
   "cell_type": "code",
   "execution_count": 220,
   "id": "d75f4c43",
   "metadata": {},
   "outputs": [
    {
     "data": {
      "text/plain": [
       "<Axes: xlabel='Job_Satisfaction'>"
      ]
     },
     "execution_count": 220,
     "metadata": {},
     "output_type": "execute_result"
    },
    {
     "data": {
      "image/png": "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",
      "text/plain": [
       "<Figure size 640x480 with 1 Axes>"
      ]
     },
     "metadata": {},
     "output_type": "display_data"
    }
   ],
   "source": [
    "sns.boxplot(x=df['Job_Satisfaction'])"
   ]
  },
  {
   "cell_type": "markdown",
   "id": "decee330",
   "metadata": {},
   "source": [
    "## Conclusion"
   ]
  },
  {
   "cell_type": "markdown",
   "id": "9bff3bc1",
   "metadata": {},
   "source": [
    "Dorpping columns - \n",
    "1. ID\n",
    "2. Job_Satisfaction\n",
    "3. Work_Pressure\n",
    "4. City\n",
    "---\n",
    "Dropping data - \n",
    "1. Rows with missing values\n",
    "2. Non-student data \n",
    "---\n",
    "Also have to remove outliers form - Age & CGPA"
   ]
>>>>>>> Stashed changes
  }
 ],
 "metadata": {
  "kernelspec": {
   "display_name": "ml-env",
   "language": "python",
   "name": "python3"
  },
  "language_info": {
   "codemirror_mode": {
    "name": "ipython",
    "version": 3
   },
   "file_extension": ".py",
   "mimetype": "text/x-python",
   "name": "python",
   "nbconvert_exporter": "python",
   "pygments_lexer": "ipython3",
   "version": "3.11.13"
  }
 },
 "nbformat": 4,
 "nbformat_minor": 5
}
