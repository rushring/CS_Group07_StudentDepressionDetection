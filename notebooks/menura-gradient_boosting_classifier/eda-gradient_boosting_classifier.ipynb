{
 "cells": [
  {
   "cell_type": "markdown",
   "id": "07e79b37",
   "metadata": {},
   "source": [
    "## Exploratory Data Analysis (EDA) – Gradient Boosting Classifier Model"
   ]
  },
  {
   "cell_type": "code",
   "execution_count": null,
   "id": "6822600f",
   "metadata": {},
   "outputs": [],
   "source": [
    "import pandas as pd\n",
    "import numpy as np\n",
    "import seaborn as sns\n",
    "import matplotlib.pyplot as plt\n",
    "\n",
    "sns.set(style='whitegrid')\n",
    "%matplotlib inline\n"
   ]
  },
  {
   "cell_type": "code",
   "execution_count": null,
   "id": "7d89fd4f",
   "metadata": {},
   "outputs": [],
   "source": [
    "# Load the dataset\n",
    "df = pd.read_csv(\"data/student_depression_dataset.csv\")  # adjust path if needed\n",
    "df.head()\n"
   ]
  },
  {
   "cell_type": "code",
   "execution_count": null,
   "id": "1e5eb69e",
   "metadata": {},
   "outputs": [],
   "source": [
    "# Check shape, info, nulls\n",
    "print(\"Shape:\", df.shape)\n",
    "print(\"\\nInfo:\")\n",
    "print(df.info())\n",
    "print(\"\\nMissing Values:\")\n",
    "print(df.isnull().sum())\n",
    "print(\"\\nDuplicates:\", df.duplicated().sum())\n"
   ]
  },
  {
   "cell_type": "code",
   "execution_count": null,
   "id": "66f9fdf8",
   "metadata": {},
   "outputs": [],
   "source": [
    "# Drop nulls\n",
    "df = df.dropna()\n",
    "# Clean column names\n",
    "df.columns = df.columns.str.strip().str.replace(\" \", \"_\").str.replace(\"?\", \"\")\n",
    "df.head()\n"
   ]
  },
  {
   "cell_type": "code",
   "execution_count": null,
   "id": "24ad0ae7",
   "metadata": {},
   "outputs": [],
   "source": [
    "# Target column distribution\n",
    "sns.countplot(data=df, x='Depression')\n",
    "plt.title('Depression Status Distribution')\n",
    "plt.show()\n"
   ]
  },
  {
   "cell_type": "code",
   "execution_count": null,
   "id": "5239b601",
   "metadata": {},
   "outputs": [],
   "source": [
    "# Summary stats\n",
    "print(df.describe(include='all'))\n",
    "# Separate categorical and numerical\n",
    "categorical_cols = df.select_dtypes(include='object').columns.tolist()\n",
    "numerical_cols = df.select_dtypes(include=['int64', 'float64']).columns.tolist()\n",
    "print(\"\\nCategorical Columns:\", categorical_cols)\n",
    "print(\"Numerical Columns:\", numerical_cols)\n"
   ]
  },
  {
   "cell_type": "code",
   "execution_count": null,
   "id": "e7129b7f",
   "metadata": {},
   "outputs": [],
   "source": [
    "# Distribution plots for numerical columns\n",
    "for col in numerical_cols:\n",
    "    plt.figure(figsize=(6, 4))\n",
    "    sns.histplot(df[col], kde=True, color='skyblue')\n",
    "    plt.title(f'Distribution of {col}')\n",
    "    plt.show()\n"
   ]
  },
  {
   "cell_type": "code",
   "execution_count": null,
   "id": "8ab38f94",
   "metadata": {},
   "outputs": [],
   "source": [
    "# Count plots for categorical columns\n",
    "for col in categorical_cols:\n",
    "    plt.figure(figsize=(8, 4))\n",
    "    sns.countplot(data=df, x=col, order=df[col].value_counts().index, palette='pastel')\n",
    "    plt.title(f'Category Distribution: {col}')\n",
    "    plt.xticks(rotation=45)\n",
    "    plt.tight_layout()\n",
    "    plt.show()\n"
   ]
  },
  {
   "cell_type": "code",
   "execution_count": null,
   "id": "aeb13bc3",
   "metadata": {},
   "outputs": [],
   "source": [
    "# Boxplots for numerical columns vs target\n",
    "for col in numerical_cols:\n",
    "    plt.figure(figsize=(6, 4))\n",
    "    sns.boxplot(data=df, x='Depression', y=col, palette='coolwarm')\n",
    "    plt.title(f'{col} vs Depression')\n",
    "    plt.show()\n"
   ]
  },
  {
   "cell_type": "code",
   "execution_count": null,
   "id": "7b4b4b13",
   "metadata": {},
   "outputs": [],
   "source": [
    "# Count plots of categorical vs target\n",
    "for col in categorical_cols:\n",
    "    plt.figure(figsize=(8, 4))\n",
    "    sns.countplot(data=df, x=col, hue='Depression', order=df[col].value_counts().index, palette='muted')\n",
    "    plt.title(f'{col} vs Depression')\n",
    "    plt.xticks(rotation=45)\n",
    "    plt.tight_layout()\n",
    "    plt.show()\n"
   ]
  },
  {
   "cell_type": "code",
   "execution_count": null,
   "id": "6b755d4c",
   "metadata": {},
   "outputs": [],
   "source": [
    "# Correlation heatmap\n",
    "plt.figure(figsize=(10, 8))\n",
    "corr = df.select_dtypes(include=['int64', 'float64']).corr()\n",
    "sns.heatmap(corr, annot=True, cmap='coolwarm')\n",
    "plt.title(\"Correlation Heatmap\")\n",
    "plt.show()\n"
   ]
  }
 ],
 "metadata": {
  "language_info": {
   "name": "python"
  }
 },
 "nbformat": 4,
 "nbformat_minor": 5
}
